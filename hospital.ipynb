{
 "cells": [
  {
   "cell_type": "code",
   "execution_count": 28,
   "id": "7b7e3020",
   "metadata": {},
   "outputs": [],
   "source": [
    "import numpy as np \n",
    "import pandas as pd\n",
    "import matplotlib.pyplot as plt\n",
    "import seaborn as s"
   ]
  },
  {
   "cell_type": "code",
   "execution_count": 29,
   "id": "6aa7e6bf",
   "metadata": {},
   "outputs": [],
   "source": [
    "df = pd.read_csv(\"hospital_patient_records.csv\")"
   ]
  },
  {
   "cell_type": "code",
   "execution_count": 30,
   "id": "d3e25a0d",
   "metadata": {},
   "outputs": [
    {
     "data": {
      "text/html": [
       "<div>\n",
       "<style scoped>\n",
       "    .dataframe tbody tr th:only-of-type {\n",
       "        vertical-align: middle;\n",
       "    }\n",
       "\n",
       "    .dataframe tbody tr th {\n",
       "        vertical-align: top;\n",
       "    }\n",
       "\n",
       "    .dataframe thead th {\n",
       "        text-align: right;\n",
       "    }\n",
       "</style>\n",
       "<table border=\"1\" class=\"dataframe\">\n",
       "  <thead>\n",
       "    <tr style=\"text-align: right;\">\n",
       "      <th></th>\n",
       "      <th>PatientID</th>\n",
       "      <th>Age</th>\n",
       "      <th>Gender</th>\n",
       "      <th>Department</th>\n",
       "      <th>AdmissionDate</th>\n",
       "      <th>DischargeDate</th>\n",
       "      <th>DoctorID</th>\n",
       "      <th>Disease</th>\n",
       "    </tr>\n",
       "  </thead>\n",
       "  <tbody>\n",
       "    <tr>\n",
       "      <th>0</th>\n",
       "      <td>PAT1000</td>\n",
       "      <td>93</td>\n",
       "      <td>Female</td>\n",
       "      <td>Neurology</td>\n",
       "      <td>2023-11-27</td>\n",
       "      <td>2023-12-15</td>\n",
       "      <td>NaN</td>\n",
       "      <td>Fracture</td>\n",
       "    </tr>\n",
       "    <tr>\n",
       "      <th>1</th>\n",
       "      <td>PAT1001</td>\n",
       "      <td>31</td>\n",
       "      <td>Male</td>\n",
       "      <td>Neurology</td>\n",
       "      <td>2023-09-10</td>\n",
       "      <td>2023-05-06</td>\n",
       "      <td>DR116</td>\n",
       "      <td>Flu</td>\n",
       "    </tr>\n",
       "    <tr>\n",
       "      <th>2</th>\n",
       "      <td>PAT1002</td>\n",
       "      <td>64</td>\n",
       "      <td>Other</td>\n",
       "      <td>Neurology</td>\n",
       "      <td>2023-06-18</td>\n",
       "      <td>2023-12-03</td>\n",
       "      <td>DR108</td>\n",
       "      <td>Cancer</td>\n",
       "    </tr>\n",
       "    <tr>\n",
       "      <th>3</th>\n",
       "      <td>PAT1003</td>\n",
       "      <td>71</td>\n",
       "      <td>Other</td>\n",
       "      <td>Pediatrics</td>\n",
       "      <td>2023-10-12</td>\n",
       "      <td>2023-03-01</td>\n",
       "      <td>DR133</td>\n",
       "      <td>Fracture</td>\n",
       "    </tr>\n",
       "    <tr>\n",
       "      <th>4</th>\n",
       "      <td>PAT1004</td>\n",
       "      <td>33</td>\n",
       "      <td>Other</td>\n",
       "      <td>Cardiology</td>\n",
       "      <td>2023-10-01</td>\n",
       "      <td>2023-04-08</td>\n",
       "      <td>DR144</td>\n",
       "      <td>Fracture</td>\n",
       "    </tr>\n",
       "    <tr>\n",
       "      <th>...</th>\n",
       "      <td>...</td>\n",
       "      <td>...</td>\n",
       "      <td>...</td>\n",
       "      <td>...</td>\n",
       "      <td>...</td>\n",
       "      <td>...</td>\n",
       "      <td>...</td>\n",
       "      <td>...</td>\n",
       "    </tr>\n",
       "    <tr>\n",
       "      <th>1010</th>\n",
       "      <td>PAT1864</td>\n",
       "      <td>43</td>\n",
       "      <td>Female</td>\n",
       "      <td>Neurology</td>\n",
       "      <td>2023-06-08</td>\n",
       "      <td>2023-03-25</td>\n",
       "      <td>DR144</td>\n",
       "      <td>Cancer</td>\n",
       "    </tr>\n",
       "    <tr>\n",
       "      <th>1011</th>\n",
       "      <td>PAT1643</td>\n",
       "      <td>63</td>\n",
       "      <td>Other</td>\n",
       "      <td>Cardiology</td>\n",
       "      <td>2023-08-18</td>\n",
       "      <td>2023-12-31</td>\n",
       "      <td>DR104</td>\n",
       "      <td>Migraine</td>\n",
       "    </tr>\n",
       "    <tr>\n",
       "      <th>1012</th>\n",
       "      <td>PAT1162</td>\n",
       "      <td>12</td>\n",
       "      <td>Female</td>\n",
       "      <td>Orthopedics</td>\n",
       "      <td>2023-04-12</td>\n",
       "      <td>2023-12-05</td>\n",
       "      <td>DR110</td>\n",
       "      <td>Cancer</td>\n",
       "    </tr>\n",
       "    <tr>\n",
       "      <th>1013</th>\n",
       "      <td>PAT1523</td>\n",
       "      <td>68</td>\n",
       "      <td>Female</td>\n",
       "      <td>Orthopedics</td>\n",
       "      <td>2023-09-17</td>\n",
       "      <td>2023-07-02</td>\n",
       "      <td>DR120</td>\n",
       "      <td>Cancer</td>\n",
       "    </tr>\n",
       "    <tr>\n",
       "      <th>1014</th>\n",
       "      <td>PAT1241</td>\n",
       "      <td>94</td>\n",
       "      <td>Female</td>\n",
       "      <td>Cardiology</td>\n",
       "      <td>2023-03-30</td>\n",
       "      <td>2023-09-28</td>\n",
       "      <td>DR121</td>\n",
       "      <td>Flu</td>\n",
       "    </tr>\n",
       "  </tbody>\n",
       "</table>\n",
       "<p>1015 rows × 8 columns</p>\n",
       "</div>"
      ],
      "text/plain": [
       "     PatientID  Age  Gender   Department AdmissionDate DischargeDate DoctorID  \\\n",
       "0      PAT1000   93  Female    Neurology    2023-11-27    2023-12-15      NaN   \n",
       "1      PAT1001   31    Male    Neurology    2023-09-10    2023-05-06    DR116   \n",
       "2      PAT1002   64   Other    Neurology    2023-06-18    2023-12-03    DR108   \n",
       "3      PAT1003   71   Other   Pediatrics    2023-10-12    2023-03-01    DR133   \n",
       "4      PAT1004   33   Other   Cardiology    2023-10-01    2023-04-08    DR144   \n",
       "...        ...  ...     ...          ...           ...           ...      ...   \n",
       "1010   PAT1864   43  Female    Neurology    2023-06-08    2023-03-25    DR144   \n",
       "1011   PAT1643   63   Other   Cardiology    2023-08-18    2023-12-31    DR104   \n",
       "1012   PAT1162   12  Female  Orthopedics    2023-04-12    2023-12-05    DR110   \n",
       "1013   PAT1523   68  Female  Orthopedics    2023-09-17    2023-07-02    DR120   \n",
       "1014   PAT1241   94  Female   Cardiology    2023-03-30    2023-09-28    DR121   \n",
       "\n",
       "       Disease  \n",
       "0     Fracture  \n",
       "1          Flu  \n",
       "2       Cancer  \n",
       "3     Fracture  \n",
       "4     Fracture  \n",
       "...        ...  \n",
       "1010    Cancer  \n",
       "1011  Migraine  \n",
       "1012    Cancer  \n",
       "1013    Cancer  \n",
       "1014       Flu  \n",
       "\n",
       "[1015 rows x 8 columns]"
      ]
     },
     "execution_count": 30,
     "metadata": {},
     "output_type": "execute_result"
    }
   ],
   "source": [
    "df"
   ]
  },
  {
   "cell_type": "code",
   "execution_count": 31,
   "id": "8cd140c0",
   "metadata": {},
   "outputs": [
    {
     "data": {
      "text/plain": [
       "<bound method DataFrame.info of      PatientID  Age  Gender   Department AdmissionDate DischargeDate DoctorID  \\\n",
       "0      PAT1000   93  Female    Neurology    2023-11-27    2023-12-15      NaN   \n",
       "1      PAT1001   31    Male    Neurology    2023-09-10    2023-05-06    DR116   \n",
       "2      PAT1002   64   Other    Neurology    2023-06-18    2023-12-03    DR108   \n",
       "3      PAT1003   71   Other   Pediatrics    2023-10-12    2023-03-01    DR133   \n",
       "4      PAT1004   33   Other   Cardiology    2023-10-01    2023-04-08    DR144   \n",
       "...        ...  ...     ...          ...           ...           ...      ...   \n",
       "1010   PAT1864   43  Female    Neurology    2023-06-08    2023-03-25    DR144   \n",
       "1011   PAT1643   63   Other   Cardiology    2023-08-18    2023-12-31    DR104   \n",
       "1012   PAT1162   12  Female  Orthopedics    2023-04-12    2023-12-05    DR110   \n",
       "1013   PAT1523   68  Female  Orthopedics    2023-09-17    2023-07-02    DR120   \n",
       "1014   PAT1241   94  Female   Cardiology    2023-03-30    2023-09-28    DR121   \n",
       "\n",
       "       Disease  \n",
       "0     Fracture  \n",
       "1          Flu  \n",
       "2       Cancer  \n",
       "3     Fracture  \n",
       "4     Fracture  \n",
       "...        ...  \n",
       "1010    Cancer  \n",
       "1011  Migraine  \n",
       "1012    Cancer  \n",
       "1013    Cancer  \n",
       "1014       Flu  \n",
       "\n",
       "[1015 rows x 8 columns]>"
      ]
     },
     "execution_count": 31,
     "metadata": {},
     "output_type": "execute_result"
    }
   ],
   "source": [
    "df.info"
   ]
  },
  {
   "cell_type": "code",
   "execution_count": 32,
   "id": "83452e49",
   "metadata": {},
   "outputs": [
    {
     "data": {
      "text/html": [
       "<div>\n",
       "<style scoped>\n",
       "    .dataframe tbody tr th:only-of-type {\n",
       "        vertical-align: middle;\n",
       "    }\n",
       "\n",
       "    .dataframe tbody tr th {\n",
       "        vertical-align: top;\n",
       "    }\n",
       "\n",
       "    .dataframe thead th {\n",
       "        text-align: right;\n",
       "    }\n",
       "</style>\n",
       "<table border=\"1\" class=\"dataframe\">\n",
       "  <thead>\n",
       "    <tr style=\"text-align: right;\">\n",
       "      <th></th>\n",
       "      <th>PatientID</th>\n",
       "      <th>Age</th>\n",
       "      <th>Gender</th>\n",
       "      <th>Department</th>\n",
       "      <th>AdmissionDate</th>\n",
       "      <th>DischargeDate</th>\n",
       "      <th>DoctorID</th>\n",
       "      <th>Disease</th>\n",
       "    </tr>\n",
       "  </thead>\n",
       "  <tbody>\n",
       "    <tr>\n",
       "      <th>0</th>\n",
       "      <td>False</td>\n",
       "      <td>False</td>\n",
       "      <td>False</td>\n",
       "      <td>False</td>\n",
       "      <td>False</td>\n",
       "      <td>False</td>\n",
       "      <td>True</td>\n",
       "      <td>False</td>\n",
       "    </tr>\n",
       "    <tr>\n",
       "      <th>1</th>\n",
       "      <td>False</td>\n",
       "      <td>False</td>\n",
       "      <td>False</td>\n",
       "      <td>False</td>\n",
       "      <td>False</td>\n",
       "      <td>False</td>\n",
       "      <td>False</td>\n",
       "      <td>False</td>\n",
       "    </tr>\n",
       "    <tr>\n",
       "      <th>2</th>\n",
       "      <td>False</td>\n",
       "      <td>False</td>\n",
       "      <td>False</td>\n",
       "      <td>False</td>\n",
       "      <td>False</td>\n",
       "      <td>False</td>\n",
       "      <td>False</td>\n",
       "      <td>False</td>\n",
       "    </tr>\n",
       "    <tr>\n",
       "      <th>3</th>\n",
       "      <td>False</td>\n",
       "      <td>False</td>\n",
       "      <td>False</td>\n",
       "      <td>False</td>\n",
       "      <td>False</td>\n",
       "      <td>False</td>\n",
       "      <td>False</td>\n",
       "      <td>False</td>\n",
       "    </tr>\n",
       "    <tr>\n",
       "      <th>4</th>\n",
       "      <td>False</td>\n",
       "      <td>False</td>\n",
       "      <td>False</td>\n",
       "      <td>False</td>\n",
       "      <td>False</td>\n",
       "      <td>False</td>\n",
       "      <td>False</td>\n",
       "      <td>False</td>\n",
       "    </tr>\n",
       "    <tr>\n",
       "      <th>...</th>\n",
       "      <td>...</td>\n",
       "      <td>...</td>\n",
       "      <td>...</td>\n",
       "      <td>...</td>\n",
       "      <td>...</td>\n",
       "      <td>...</td>\n",
       "      <td>...</td>\n",
       "      <td>...</td>\n",
       "    </tr>\n",
       "    <tr>\n",
       "      <th>1010</th>\n",
       "      <td>False</td>\n",
       "      <td>False</td>\n",
       "      <td>False</td>\n",
       "      <td>False</td>\n",
       "      <td>False</td>\n",
       "      <td>False</td>\n",
       "      <td>False</td>\n",
       "      <td>False</td>\n",
       "    </tr>\n",
       "    <tr>\n",
       "      <th>1011</th>\n",
       "      <td>False</td>\n",
       "      <td>False</td>\n",
       "      <td>False</td>\n",
       "      <td>False</td>\n",
       "      <td>False</td>\n",
       "      <td>False</td>\n",
       "      <td>False</td>\n",
       "      <td>False</td>\n",
       "    </tr>\n",
       "    <tr>\n",
       "      <th>1012</th>\n",
       "      <td>False</td>\n",
       "      <td>False</td>\n",
       "      <td>False</td>\n",
       "      <td>False</td>\n",
       "      <td>False</td>\n",
       "      <td>False</td>\n",
       "      <td>False</td>\n",
       "      <td>False</td>\n",
       "    </tr>\n",
       "    <tr>\n",
       "      <th>1013</th>\n",
       "      <td>False</td>\n",
       "      <td>False</td>\n",
       "      <td>False</td>\n",
       "      <td>False</td>\n",
       "      <td>False</td>\n",
       "      <td>False</td>\n",
       "      <td>False</td>\n",
       "      <td>False</td>\n",
       "    </tr>\n",
       "    <tr>\n",
       "      <th>1014</th>\n",
       "      <td>False</td>\n",
       "      <td>False</td>\n",
       "      <td>False</td>\n",
       "      <td>False</td>\n",
       "      <td>False</td>\n",
       "      <td>False</td>\n",
       "      <td>False</td>\n",
       "      <td>False</td>\n",
       "    </tr>\n",
       "  </tbody>\n",
       "</table>\n",
       "<p>1015 rows × 8 columns</p>\n",
       "</div>"
      ],
      "text/plain": [
       "      PatientID    Age  Gender  Department  AdmissionDate  DischargeDate  \\\n",
       "0         False  False   False       False          False          False   \n",
       "1         False  False   False       False          False          False   \n",
       "2         False  False   False       False          False          False   \n",
       "3         False  False   False       False          False          False   \n",
       "4         False  False   False       False          False          False   \n",
       "...         ...    ...     ...         ...            ...            ...   \n",
       "1010      False  False   False       False          False          False   \n",
       "1011      False  False   False       False          False          False   \n",
       "1012      False  False   False       False          False          False   \n",
       "1013      False  False   False       False          False          False   \n",
       "1014      False  False   False       False          False          False   \n",
       "\n",
       "      DoctorID  Disease  \n",
       "0         True    False  \n",
       "1        False    False  \n",
       "2        False    False  \n",
       "3        False    False  \n",
       "4        False    False  \n",
       "...        ...      ...  \n",
       "1010     False    False  \n",
       "1011     False    False  \n",
       "1012     False    False  \n",
       "1013     False    False  \n",
       "1014     False    False  \n",
       "\n",
       "[1015 rows x 8 columns]"
      ]
     },
     "execution_count": 32,
     "metadata": {},
     "output_type": "execute_result"
    }
   ],
   "source": [
    "df.isna()"
   ]
  },
  {
   "cell_type": "code",
   "execution_count": 33,
   "id": "23049b32",
   "metadata": {},
   "outputs": [
    {
     "data": {
      "text/plain": [
       "PatientID          0\n",
       "Age                0\n",
       "Gender             0\n",
       "Department         0\n",
       "AdmissionDate      0\n",
       "DischargeDate      0\n",
       "DoctorID         295\n",
       "Disease            0\n",
       "dtype: int64"
      ]
     },
     "execution_count": 33,
     "metadata": {},
     "output_type": "execute_result"
    }
   ],
   "source": [
    "df.isna().sum()"
   ]
  },
  {
   "cell_type": "code",
   "execution_count": 34,
   "id": "f96b2f67",
   "metadata": {},
   "outputs": [
    {
     "data": {
      "text/plain": [
       "PatientID          0\n",
       "Age                0\n",
       "Gender             0\n",
       "Department         0\n",
       "AdmissionDate      0\n",
       "DischargeDate      0\n",
       "DoctorID         295\n",
       "Disease            0\n",
       "dtype: int64"
      ]
     },
     "execution_count": 34,
     "metadata": {},
     "output_type": "execute_result"
    }
   ],
   "source": [
    "df.isnull().sum()"
   ]
  },
  {
   "cell_type": "code",
   "execution_count": 35,
   "id": "3eb40251",
   "metadata": {},
   "outputs": [],
   "source": [
    "df =  df.dropna(axis=1)"
   ]
  },
  {
   "cell_type": "code",
   "execution_count": 36,
   "id": "b7f89aab",
   "metadata": {},
   "outputs": [
    {
     "data": {
      "text/html": [
       "<div>\n",
       "<style scoped>\n",
       "    .dataframe tbody tr th:only-of-type {\n",
       "        vertical-align: middle;\n",
       "    }\n",
       "\n",
       "    .dataframe tbody tr th {\n",
       "        vertical-align: top;\n",
       "    }\n",
       "\n",
       "    .dataframe thead th {\n",
       "        text-align: right;\n",
       "    }\n",
       "</style>\n",
       "<table border=\"1\" class=\"dataframe\">\n",
       "  <thead>\n",
       "    <tr style=\"text-align: right;\">\n",
       "      <th></th>\n",
       "      <th>PatientID</th>\n",
       "      <th>Age</th>\n",
       "      <th>Gender</th>\n",
       "      <th>Department</th>\n",
       "      <th>AdmissionDate</th>\n",
       "      <th>DischargeDate</th>\n",
       "      <th>Disease</th>\n",
       "    </tr>\n",
       "  </thead>\n",
       "  <tbody>\n",
       "    <tr>\n",
       "      <th>0</th>\n",
       "      <td>PAT1000</td>\n",
       "      <td>93</td>\n",
       "      <td>Female</td>\n",
       "      <td>Neurology</td>\n",
       "      <td>2023-11-27</td>\n",
       "      <td>2023-12-15</td>\n",
       "      <td>Fracture</td>\n",
       "    </tr>\n",
       "    <tr>\n",
       "      <th>1</th>\n",
       "      <td>PAT1001</td>\n",
       "      <td>31</td>\n",
       "      <td>Male</td>\n",
       "      <td>Neurology</td>\n",
       "      <td>2023-09-10</td>\n",
       "      <td>2023-05-06</td>\n",
       "      <td>Flu</td>\n",
       "    </tr>\n",
       "    <tr>\n",
       "      <th>2</th>\n",
       "      <td>PAT1002</td>\n",
       "      <td>64</td>\n",
       "      <td>Other</td>\n",
       "      <td>Neurology</td>\n",
       "      <td>2023-06-18</td>\n",
       "      <td>2023-12-03</td>\n",
       "      <td>Cancer</td>\n",
       "    </tr>\n",
       "    <tr>\n",
       "      <th>3</th>\n",
       "      <td>PAT1003</td>\n",
       "      <td>71</td>\n",
       "      <td>Other</td>\n",
       "      <td>Pediatrics</td>\n",
       "      <td>2023-10-12</td>\n",
       "      <td>2023-03-01</td>\n",
       "      <td>Fracture</td>\n",
       "    </tr>\n",
       "    <tr>\n",
       "      <th>4</th>\n",
       "      <td>PAT1004</td>\n",
       "      <td>33</td>\n",
       "      <td>Other</td>\n",
       "      <td>Cardiology</td>\n",
       "      <td>2023-10-01</td>\n",
       "      <td>2023-04-08</td>\n",
       "      <td>Fracture</td>\n",
       "    </tr>\n",
       "    <tr>\n",
       "      <th>...</th>\n",
       "      <td>...</td>\n",
       "      <td>...</td>\n",
       "      <td>...</td>\n",
       "      <td>...</td>\n",
       "      <td>...</td>\n",
       "      <td>...</td>\n",
       "      <td>...</td>\n",
       "    </tr>\n",
       "    <tr>\n",
       "      <th>1010</th>\n",
       "      <td>PAT1864</td>\n",
       "      <td>43</td>\n",
       "      <td>Female</td>\n",
       "      <td>Neurology</td>\n",
       "      <td>2023-06-08</td>\n",
       "      <td>2023-03-25</td>\n",
       "      <td>Cancer</td>\n",
       "    </tr>\n",
       "    <tr>\n",
       "      <th>1011</th>\n",
       "      <td>PAT1643</td>\n",
       "      <td>63</td>\n",
       "      <td>Other</td>\n",
       "      <td>Cardiology</td>\n",
       "      <td>2023-08-18</td>\n",
       "      <td>2023-12-31</td>\n",
       "      <td>Migraine</td>\n",
       "    </tr>\n",
       "    <tr>\n",
       "      <th>1012</th>\n",
       "      <td>PAT1162</td>\n",
       "      <td>12</td>\n",
       "      <td>Female</td>\n",
       "      <td>Orthopedics</td>\n",
       "      <td>2023-04-12</td>\n",
       "      <td>2023-12-05</td>\n",
       "      <td>Cancer</td>\n",
       "    </tr>\n",
       "    <tr>\n",
       "      <th>1013</th>\n",
       "      <td>PAT1523</td>\n",
       "      <td>68</td>\n",
       "      <td>Female</td>\n",
       "      <td>Orthopedics</td>\n",
       "      <td>2023-09-17</td>\n",
       "      <td>2023-07-02</td>\n",
       "      <td>Cancer</td>\n",
       "    </tr>\n",
       "    <tr>\n",
       "      <th>1014</th>\n",
       "      <td>PAT1241</td>\n",
       "      <td>94</td>\n",
       "      <td>Female</td>\n",
       "      <td>Cardiology</td>\n",
       "      <td>2023-03-30</td>\n",
       "      <td>2023-09-28</td>\n",
       "      <td>Flu</td>\n",
       "    </tr>\n",
       "  </tbody>\n",
       "</table>\n",
       "<p>1015 rows × 7 columns</p>\n",
       "</div>"
      ],
      "text/plain": [
       "     PatientID  Age  Gender   Department AdmissionDate DischargeDate   Disease\n",
       "0      PAT1000   93  Female    Neurology    2023-11-27    2023-12-15  Fracture\n",
       "1      PAT1001   31    Male    Neurology    2023-09-10    2023-05-06       Flu\n",
       "2      PAT1002   64   Other    Neurology    2023-06-18    2023-12-03    Cancer\n",
       "3      PAT1003   71   Other   Pediatrics    2023-10-12    2023-03-01  Fracture\n",
       "4      PAT1004   33   Other   Cardiology    2023-10-01    2023-04-08  Fracture\n",
       "...        ...  ...     ...          ...           ...           ...       ...\n",
       "1010   PAT1864   43  Female    Neurology    2023-06-08    2023-03-25    Cancer\n",
       "1011   PAT1643   63   Other   Cardiology    2023-08-18    2023-12-31  Migraine\n",
       "1012   PAT1162   12  Female  Orthopedics    2023-04-12    2023-12-05    Cancer\n",
       "1013   PAT1523   68  Female  Orthopedics    2023-09-17    2023-07-02    Cancer\n",
       "1014   PAT1241   94  Female   Cardiology    2023-03-30    2023-09-28       Flu\n",
       "\n",
       "[1015 rows x 7 columns]"
      ]
     },
     "execution_count": 36,
     "metadata": {},
     "output_type": "execute_result"
    }
   ],
   "source": [
    "df"
   ]
  },
  {
   "cell_type": "code",
   "execution_count": 53,
   "id": "de39ed3a",
   "metadata": {},
   "outputs": [],
   "source": [
    "df.drop([\"AdmissionDate\",\"DischargeDate\"],axis = 1,inplace=True)"
   ]
  },
  {
   "cell_type": "code",
   "execution_count": 54,
   "id": "11cf3b46",
   "metadata": {},
   "outputs": [
    {
     "data": {
      "text/html": [
       "<div>\n",
       "<style scoped>\n",
       "    .dataframe tbody tr th:only-of-type {\n",
       "        vertical-align: middle;\n",
       "    }\n",
       "\n",
       "    .dataframe tbody tr th {\n",
       "        vertical-align: top;\n",
       "    }\n",
       "\n",
       "    .dataframe thead th {\n",
       "        text-align: right;\n",
       "    }\n",
       "</style>\n",
       "<table border=\"1\" class=\"dataframe\">\n",
       "  <thead>\n",
       "    <tr style=\"text-align: right;\">\n",
       "      <th></th>\n",
       "      <th>PatientID</th>\n",
       "      <th>Age</th>\n",
       "      <th>Gender</th>\n",
       "      <th>Department</th>\n",
       "      <th>DoctorID</th>\n",
       "      <th>Disease</th>\n",
       "    </tr>\n",
       "  </thead>\n",
       "  <tbody>\n",
       "    <tr>\n",
       "      <th>0</th>\n",
       "      <td>PAT1000</td>\n",
       "      <td>93</td>\n",
       "      <td>Female</td>\n",
       "      <td>Neurology</td>\n",
       "      <td>NaN</td>\n",
       "      <td>Fracture</td>\n",
       "    </tr>\n",
       "    <tr>\n",
       "      <th>1</th>\n",
       "      <td>PAT1001</td>\n",
       "      <td>31</td>\n",
       "      <td>Male</td>\n",
       "      <td>Neurology</td>\n",
       "      <td>DR116</td>\n",
       "      <td>Flu</td>\n",
       "    </tr>\n",
       "    <tr>\n",
       "      <th>2</th>\n",
       "      <td>PAT1002</td>\n",
       "      <td>64</td>\n",
       "      <td>Other</td>\n",
       "      <td>Neurology</td>\n",
       "      <td>DR108</td>\n",
       "      <td>Cancer</td>\n",
       "    </tr>\n",
       "    <tr>\n",
       "      <th>3</th>\n",
       "      <td>PAT1003</td>\n",
       "      <td>71</td>\n",
       "      <td>Other</td>\n",
       "      <td>Pediatrics</td>\n",
       "      <td>DR133</td>\n",
       "      <td>Fracture</td>\n",
       "    </tr>\n",
       "    <tr>\n",
       "      <th>4</th>\n",
       "      <td>PAT1004</td>\n",
       "      <td>33</td>\n",
       "      <td>Other</td>\n",
       "      <td>Cardiology</td>\n",
       "      <td>DR144</td>\n",
       "      <td>Fracture</td>\n",
       "    </tr>\n",
       "    <tr>\n",
       "      <th>...</th>\n",
       "      <td>...</td>\n",
       "      <td>...</td>\n",
       "      <td>...</td>\n",
       "      <td>...</td>\n",
       "      <td>...</td>\n",
       "      <td>...</td>\n",
       "    </tr>\n",
       "    <tr>\n",
       "      <th>1010</th>\n",
       "      <td>PAT1864</td>\n",
       "      <td>43</td>\n",
       "      <td>Female</td>\n",
       "      <td>Neurology</td>\n",
       "      <td>DR144</td>\n",
       "      <td>Cancer</td>\n",
       "    </tr>\n",
       "    <tr>\n",
       "      <th>1011</th>\n",
       "      <td>PAT1643</td>\n",
       "      <td>63</td>\n",
       "      <td>Other</td>\n",
       "      <td>Cardiology</td>\n",
       "      <td>DR104</td>\n",
       "      <td>Migraine</td>\n",
       "    </tr>\n",
       "    <tr>\n",
       "      <th>1012</th>\n",
       "      <td>PAT1162</td>\n",
       "      <td>12</td>\n",
       "      <td>Female</td>\n",
       "      <td>Orthopedics</td>\n",
       "      <td>DR110</td>\n",
       "      <td>Cancer</td>\n",
       "    </tr>\n",
       "    <tr>\n",
       "      <th>1013</th>\n",
       "      <td>PAT1523</td>\n",
       "      <td>68</td>\n",
       "      <td>Female</td>\n",
       "      <td>Orthopedics</td>\n",
       "      <td>DR120</td>\n",
       "      <td>Cancer</td>\n",
       "    </tr>\n",
       "    <tr>\n",
       "      <th>1014</th>\n",
       "      <td>PAT1241</td>\n",
       "      <td>94</td>\n",
       "      <td>Female</td>\n",
       "      <td>Cardiology</td>\n",
       "      <td>DR121</td>\n",
       "      <td>Flu</td>\n",
       "    </tr>\n",
       "  </tbody>\n",
       "</table>\n",
       "<p>1015 rows × 6 columns</p>\n",
       "</div>"
      ],
      "text/plain": [
       "     PatientID  Age  Gender   Department DoctorID   Disease\n",
       "0      PAT1000   93  Female    Neurology      NaN  Fracture\n",
       "1      PAT1001   31    Male    Neurology    DR116       Flu\n",
       "2      PAT1002   64   Other    Neurology    DR108    Cancer\n",
       "3      PAT1003   71   Other   Pediatrics    DR133  Fracture\n",
       "4      PAT1004   33   Other   Cardiology    DR144  Fracture\n",
       "...        ...  ...     ...          ...      ...       ...\n",
       "1010   PAT1864   43  Female    Neurology    DR144    Cancer\n",
       "1011   PAT1643   63   Other   Cardiology    DR104  Migraine\n",
       "1012   PAT1162   12  Female  Orthopedics    DR110    Cancer\n",
       "1013   PAT1523   68  Female  Orthopedics    DR120    Cancer\n",
       "1014   PAT1241   94  Female   Cardiology    DR121       Flu\n",
       "\n",
       "[1015 rows x 6 columns]"
      ]
     },
     "execution_count": 54,
     "metadata": {},
     "output_type": "execute_result"
    }
   ],
   "source": [
    "df"
   ]
  },
  {
   "cell_type": "code",
   "execution_count": 55,
   "id": "65971f93",
   "metadata": {},
   "outputs": [],
   "source": [
    "df =  df.dropna(axis=1)"
   ]
  },
  {
   "cell_type": "code",
   "execution_count": 56,
   "id": "fe02b1cb",
   "metadata": {},
   "outputs": [
    {
     "data": {
      "text/html": [
       "<div>\n",
       "<style scoped>\n",
       "    .dataframe tbody tr th:only-of-type {\n",
       "        vertical-align: middle;\n",
       "    }\n",
       "\n",
       "    .dataframe tbody tr th {\n",
       "        vertical-align: top;\n",
       "    }\n",
       "\n",
       "    .dataframe thead th {\n",
       "        text-align: right;\n",
       "    }\n",
       "</style>\n",
       "<table border=\"1\" class=\"dataframe\">\n",
       "  <thead>\n",
       "    <tr style=\"text-align: right;\">\n",
       "      <th></th>\n",
       "      <th>PatientID</th>\n",
       "      <th>Age</th>\n",
       "      <th>Gender</th>\n",
       "      <th>Department</th>\n",
       "      <th>Disease</th>\n",
       "    </tr>\n",
       "  </thead>\n",
       "  <tbody>\n",
       "    <tr>\n",
       "      <th>0</th>\n",
       "      <td>PAT1000</td>\n",
       "      <td>93</td>\n",
       "      <td>Female</td>\n",
       "      <td>Neurology</td>\n",
       "      <td>Fracture</td>\n",
       "    </tr>\n",
       "    <tr>\n",
       "      <th>1</th>\n",
       "      <td>PAT1001</td>\n",
       "      <td>31</td>\n",
       "      <td>Male</td>\n",
       "      <td>Neurology</td>\n",
       "      <td>Flu</td>\n",
       "    </tr>\n",
       "    <tr>\n",
       "      <th>2</th>\n",
       "      <td>PAT1002</td>\n",
       "      <td>64</td>\n",
       "      <td>Other</td>\n",
       "      <td>Neurology</td>\n",
       "      <td>Cancer</td>\n",
       "    </tr>\n",
       "    <tr>\n",
       "      <th>3</th>\n",
       "      <td>PAT1003</td>\n",
       "      <td>71</td>\n",
       "      <td>Other</td>\n",
       "      <td>Pediatrics</td>\n",
       "      <td>Fracture</td>\n",
       "    </tr>\n",
       "    <tr>\n",
       "      <th>4</th>\n",
       "      <td>PAT1004</td>\n",
       "      <td>33</td>\n",
       "      <td>Other</td>\n",
       "      <td>Cardiology</td>\n",
       "      <td>Fracture</td>\n",
       "    </tr>\n",
       "    <tr>\n",
       "      <th>...</th>\n",
       "      <td>...</td>\n",
       "      <td>...</td>\n",
       "      <td>...</td>\n",
       "      <td>...</td>\n",
       "      <td>...</td>\n",
       "    </tr>\n",
       "    <tr>\n",
       "      <th>1010</th>\n",
       "      <td>PAT1864</td>\n",
       "      <td>43</td>\n",
       "      <td>Female</td>\n",
       "      <td>Neurology</td>\n",
       "      <td>Cancer</td>\n",
       "    </tr>\n",
       "    <tr>\n",
       "      <th>1011</th>\n",
       "      <td>PAT1643</td>\n",
       "      <td>63</td>\n",
       "      <td>Other</td>\n",
       "      <td>Cardiology</td>\n",
       "      <td>Migraine</td>\n",
       "    </tr>\n",
       "    <tr>\n",
       "      <th>1012</th>\n",
       "      <td>PAT1162</td>\n",
       "      <td>12</td>\n",
       "      <td>Female</td>\n",
       "      <td>Orthopedics</td>\n",
       "      <td>Cancer</td>\n",
       "    </tr>\n",
       "    <tr>\n",
       "      <th>1013</th>\n",
       "      <td>PAT1523</td>\n",
       "      <td>68</td>\n",
       "      <td>Female</td>\n",
       "      <td>Orthopedics</td>\n",
       "      <td>Cancer</td>\n",
       "    </tr>\n",
       "    <tr>\n",
       "      <th>1014</th>\n",
       "      <td>PAT1241</td>\n",
       "      <td>94</td>\n",
       "      <td>Female</td>\n",
       "      <td>Cardiology</td>\n",
       "      <td>Flu</td>\n",
       "    </tr>\n",
       "  </tbody>\n",
       "</table>\n",
       "<p>1015 rows × 5 columns</p>\n",
       "</div>"
      ],
      "text/plain": [
       "     PatientID  Age  Gender   Department   Disease\n",
       "0      PAT1000   93  Female    Neurology  Fracture\n",
       "1      PAT1001   31    Male    Neurology       Flu\n",
       "2      PAT1002   64   Other    Neurology    Cancer\n",
       "3      PAT1003   71   Other   Pediatrics  Fracture\n",
       "4      PAT1004   33   Other   Cardiology  Fracture\n",
       "...        ...  ...     ...          ...       ...\n",
       "1010   PAT1864   43  Female    Neurology    Cancer\n",
       "1011   PAT1643   63   Other   Cardiology  Migraine\n",
       "1012   PAT1162   12  Female  Orthopedics    Cancer\n",
       "1013   PAT1523   68  Female  Orthopedics    Cancer\n",
       "1014   PAT1241   94  Female   Cardiology       Flu\n",
       "\n",
       "[1015 rows x 5 columns]"
      ]
     },
     "execution_count": 56,
     "metadata": {},
     "output_type": "execute_result"
    }
   ],
   "source": [
    "df"
   ]
  },
  {
   "cell_type": "code",
   "execution_count": 57,
   "id": "a1a09e64",
   "metadata": {},
   "outputs": [
    {
     "data": {
      "text/plain": [
       "(1015, 5)"
      ]
     },
     "execution_count": 57,
     "metadata": {},
     "output_type": "execute_result"
    }
   ],
   "source": [
    "df.shape"
   ]
  },
  {
   "cell_type": "code",
   "execution_count": 58,
   "id": "c91318b8",
   "metadata": {},
   "outputs": [
    {
     "data": {
      "text/plain": [
       "5075"
      ]
     },
     "execution_count": 58,
     "metadata": {},
     "output_type": "execute_result"
    }
   ],
   "source": [
    "df.size"
   ]
  },
  {
   "cell_type": "code",
   "execution_count": 59,
   "id": "bd66d271",
   "metadata": {},
   "outputs": [
    {
     "data": {
      "text/plain": [
       "<bound method NDFrame.describe of      PatientID  Age  Gender   Department   Disease\n",
       "0      PAT1000   93  Female    Neurology  Fracture\n",
       "1      PAT1001   31    Male    Neurology       Flu\n",
       "2      PAT1002   64   Other    Neurology    Cancer\n",
       "3      PAT1003   71   Other   Pediatrics  Fracture\n",
       "4      PAT1004   33   Other   Cardiology  Fracture\n",
       "...        ...  ...     ...          ...       ...\n",
       "1010   PAT1864   43  Female    Neurology    Cancer\n",
       "1011   PAT1643   63   Other   Cardiology  Migraine\n",
       "1012   PAT1162   12  Female  Orthopedics    Cancer\n",
       "1013   PAT1523   68  Female  Orthopedics    Cancer\n",
       "1014   PAT1241   94  Female   Cardiology       Flu\n",
       "\n",
       "[1015 rows x 5 columns]>"
      ]
     },
     "execution_count": 59,
     "metadata": {},
     "output_type": "execute_result"
    }
   ],
   "source": [
    "df.describe"
   ]
  },
  {
   "cell_type": "code",
   "execution_count": 60,
   "id": "0e2e3ebd",
   "metadata": {},
   "outputs": [
    {
     "data": {
      "text/plain": [
       "Gender\n",
       "Female    351\n",
       "Other     340\n",
       "Male      324\n",
       "Name: count, dtype: int64"
      ]
     },
     "execution_count": 60,
     "metadata": {},
     "output_type": "execute_result"
    }
   ],
   "source": [
    "df[\"Gender\"].value_counts()"
   ]
  },
  {
   "cell_type": "code",
   "execution_count": 61,
   "id": "5e89d3de",
   "metadata": {},
   "outputs": [
    {
     "data": {
      "text/plain": [
       "Disease\n",
       "Migraine    215\n",
       "Fracture    209\n",
       "Diabetes    208\n",
       "Cancer      194\n",
       "Flu         189\n",
       "Name: count, dtype: int64"
      ]
     },
     "execution_count": 61,
     "metadata": {},
     "output_type": "execute_result"
    }
   ],
   "source": [
    "df[\"Disease\"].value_counts()"
   ]
  },
  {
   "cell_type": "code",
   "execution_count": 47,
   "id": "682fcaf7",
   "metadata": {},
   "outputs": [
    {
     "data": {
      "text/plain": [
       "PatientID\n",
       "PAT1162    2\n",
       "PAT1066    2\n",
       "PAT1010    2\n",
       "PAT1380    2\n",
       "PAT1433    2\n",
       "          ..\n",
       "PAT1995    1\n",
       "PAT1996    1\n",
       "PAT1997    1\n",
       "PAT1998    1\n",
       "PAT1023    1\n",
       "Name: count, Length: 1000, dtype: int64"
      ]
     },
     "execution_count": 47,
     "metadata": {},
     "output_type": "execute_result"
    }
   ],
   "source": [
    "df[\"PatientID\"].value_counts()"
   ]
  },
  {
   "cell_type": "code",
   "execution_count": 62,
   "id": "1f1eb740",
   "metadata": {},
   "outputs": [
    {
     "data": {
      "text/html": [
       "<div>\n",
       "<style scoped>\n",
       "    .dataframe tbody tr th:only-of-type {\n",
       "        vertical-align: middle;\n",
       "    }\n",
       "\n",
       "    .dataframe tbody tr th {\n",
       "        vertical-align: top;\n",
       "    }\n",
       "\n",
       "    .dataframe thead th {\n",
       "        text-align: right;\n",
       "    }\n",
       "</style>\n",
       "<table border=\"1\" class=\"dataframe\">\n",
       "  <thead>\n",
       "    <tr style=\"text-align: right;\">\n",
       "      <th></th>\n",
       "      <th>PatientID</th>\n",
       "      <th>Age</th>\n",
       "      <th>Gender</th>\n",
       "      <th>Department</th>\n",
       "      <th>Disease</th>\n",
       "    </tr>\n",
       "  </thead>\n",
       "  <tbody>\n",
       "    <tr>\n",
       "      <th>0</th>\n",
       "      <td>PAT1000</td>\n",
       "      <td>93</td>\n",
       "      <td>Female</td>\n",
       "      <td>Neurology</td>\n",
       "      <td>Fracture</td>\n",
       "    </tr>\n",
       "    <tr>\n",
       "      <th>1</th>\n",
       "      <td>PAT1001</td>\n",
       "      <td>31</td>\n",
       "      <td>Male</td>\n",
       "      <td>Neurology</td>\n",
       "      <td>Flu</td>\n",
       "    </tr>\n",
       "    <tr>\n",
       "      <th>2</th>\n",
       "      <td>PAT1002</td>\n",
       "      <td>64</td>\n",
       "      <td>Other</td>\n",
       "      <td>Neurology</td>\n",
       "      <td>Cancer</td>\n",
       "    </tr>\n",
       "    <tr>\n",
       "      <th>3</th>\n",
       "      <td>PAT1003</td>\n",
       "      <td>71</td>\n",
       "      <td>Other</td>\n",
       "      <td>Pediatrics</td>\n",
       "      <td>Fracture</td>\n",
       "    </tr>\n",
       "    <tr>\n",
       "      <th>4</th>\n",
       "      <td>PAT1004</td>\n",
       "      <td>33</td>\n",
       "      <td>Other</td>\n",
       "      <td>Cardiology</td>\n",
       "      <td>Fracture</td>\n",
       "    </tr>\n",
       "    <tr>\n",
       "      <th>...</th>\n",
       "      <td>...</td>\n",
       "      <td>...</td>\n",
       "      <td>...</td>\n",
       "      <td>...</td>\n",
       "      <td>...</td>\n",
       "    </tr>\n",
       "    <tr>\n",
       "      <th>995</th>\n",
       "      <td>PAT1995</td>\n",
       "      <td>50</td>\n",
       "      <td>Female</td>\n",
       "      <td>Pediatrics</td>\n",
       "      <td>Migraine</td>\n",
       "    </tr>\n",
       "    <tr>\n",
       "      <th>996</th>\n",
       "      <td>PAT1996</td>\n",
       "      <td>80</td>\n",
       "      <td>Male</td>\n",
       "      <td>Cardiology</td>\n",
       "      <td>Migraine</td>\n",
       "    </tr>\n",
       "    <tr>\n",
       "      <th>997</th>\n",
       "      <td>PAT1997</td>\n",
       "      <td>41</td>\n",
       "      <td>Other</td>\n",
       "      <td>Cardiology</td>\n",
       "      <td>Fracture</td>\n",
       "    </tr>\n",
       "    <tr>\n",
       "      <th>998</th>\n",
       "      <td>PAT1998</td>\n",
       "      <td>18</td>\n",
       "      <td>Male</td>\n",
       "      <td>Pediatrics</td>\n",
       "      <td>Diabetes</td>\n",
       "    </tr>\n",
       "    <tr>\n",
       "      <th>999</th>\n",
       "      <td>PAT1999</td>\n",
       "      <td>22</td>\n",
       "      <td>Other</td>\n",
       "      <td>Orthopedics</td>\n",
       "      <td>Migraine</td>\n",
       "    </tr>\n",
       "  </tbody>\n",
       "</table>\n",
       "<p>1000 rows × 5 columns</p>\n",
       "</div>"
      ],
      "text/plain": [
       "    PatientID  Age  Gender   Department   Disease\n",
       "0     PAT1000   93  Female    Neurology  Fracture\n",
       "1     PAT1001   31    Male    Neurology       Flu\n",
       "2     PAT1002   64   Other    Neurology    Cancer\n",
       "3     PAT1003   71   Other   Pediatrics  Fracture\n",
       "4     PAT1004   33   Other   Cardiology  Fracture\n",
       "..        ...  ...     ...          ...       ...\n",
       "995   PAT1995   50  Female   Pediatrics  Migraine\n",
       "996   PAT1996   80    Male   Cardiology  Migraine\n",
       "997   PAT1997   41   Other   Cardiology  Fracture\n",
       "998   PAT1998   18    Male   Pediatrics  Diabetes\n",
       "999   PAT1999   22   Other  Orthopedics  Migraine\n",
       "\n",
       "[1000 rows x 5 columns]"
      ]
     },
     "execution_count": 62,
     "metadata": {},
     "output_type": "execute_result"
    }
   ],
   "source": [
    "df.drop_duplicates()"
   ]
  },
  {
   "cell_type": "code",
   "execution_count": 49,
   "id": "5fc85c08",
   "metadata": {},
   "outputs": [
    {
     "data": {
      "text/html": [
       "<div>\n",
       "<style scoped>\n",
       "    .dataframe tbody tr th:only-of-type {\n",
       "        vertical-align: middle;\n",
       "    }\n",
       "\n",
       "    .dataframe tbody tr th {\n",
       "        vertical-align: top;\n",
       "    }\n",
       "\n",
       "    .dataframe thead th {\n",
       "        text-align: right;\n",
       "    }\n",
       "</style>\n",
       "<table border=\"1\" class=\"dataframe\">\n",
       "  <thead>\n",
       "    <tr style=\"text-align: right;\">\n",
       "      <th></th>\n",
       "      <th>PatientID</th>\n",
       "      <th>Age</th>\n",
       "      <th>Gender</th>\n",
       "      <th>Department</th>\n",
       "      <th>AdmissionDate</th>\n",
       "      <th>DischargeDate</th>\n",
       "      <th>DoctorID</th>\n",
       "      <th>Disease</th>\n",
       "    </tr>\n",
       "  </thead>\n",
       "  <tbody>\n",
       "    <tr>\n",
       "      <th>0</th>\n",
       "      <td>PAT1000</td>\n",
       "      <td>93</td>\n",
       "      <td>Female</td>\n",
       "      <td>Neurology</td>\n",
       "      <td>2023-11-27</td>\n",
       "      <td>2023-12-15</td>\n",
       "      <td>NaN</td>\n",
       "      <td>Fracture</td>\n",
       "    </tr>\n",
       "    <tr>\n",
       "      <th>1</th>\n",
       "      <td>PAT1001</td>\n",
       "      <td>31</td>\n",
       "      <td>Male</td>\n",
       "      <td>Neurology</td>\n",
       "      <td>2023-09-10</td>\n",
       "      <td>2023-05-06</td>\n",
       "      <td>DR116</td>\n",
       "      <td>Flu</td>\n",
       "    </tr>\n",
       "    <tr>\n",
       "      <th>2</th>\n",
       "      <td>PAT1002</td>\n",
       "      <td>64</td>\n",
       "      <td>Other</td>\n",
       "      <td>Neurology</td>\n",
       "      <td>2023-06-18</td>\n",
       "      <td>2023-12-03</td>\n",
       "      <td>DR108</td>\n",
       "      <td>Cancer</td>\n",
       "    </tr>\n",
       "    <tr>\n",
       "      <th>3</th>\n",
       "      <td>PAT1003</td>\n",
       "      <td>71</td>\n",
       "      <td>Other</td>\n",
       "      <td>Pediatrics</td>\n",
       "      <td>2023-10-12</td>\n",
       "      <td>2023-03-01</td>\n",
       "      <td>DR133</td>\n",
       "      <td>Fracture</td>\n",
       "    </tr>\n",
       "    <tr>\n",
       "      <th>4</th>\n",
       "      <td>PAT1004</td>\n",
       "      <td>33</td>\n",
       "      <td>Other</td>\n",
       "      <td>Cardiology</td>\n",
       "      <td>2023-10-01</td>\n",
       "      <td>2023-04-08</td>\n",
       "      <td>DR144</td>\n",
       "      <td>Fracture</td>\n",
       "    </tr>\n",
       "    <tr>\n",
       "      <th>...</th>\n",
       "      <td>...</td>\n",
       "      <td>...</td>\n",
       "      <td>...</td>\n",
       "      <td>...</td>\n",
       "      <td>...</td>\n",
       "      <td>...</td>\n",
       "      <td>...</td>\n",
       "      <td>...</td>\n",
       "    </tr>\n",
       "    <tr>\n",
       "      <th>995</th>\n",
       "      <td>PAT1995</td>\n",
       "      <td>50</td>\n",
       "      <td>Female</td>\n",
       "      <td>Pediatrics</td>\n",
       "      <td>2023-03-21</td>\n",
       "      <td>2023-04-04</td>\n",
       "      <td>DR146</td>\n",
       "      <td>Migraine</td>\n",
       "    </tr>\n",
       "    <tr>\n",
       "      <th>996</th>\n",
       "      <td>PAT1996</td>\n",
       "      <td>80</td>\n",
       "      <td>Male</td>\n",
       "      <td>Cardiology</td>\n",
       "      <td>2023-07-11</td>\n",
       "      <td>2023-11-26</td>\n",
       "      <td>DR103</td>\n",
       "      <td>Migraine</td>\n",
       "    </tr>\n",
       "    <tr>\n",
       "      <th>997</th>\n",
       "      <td>PAT1997</td>\n",
       "      <td>41</td>\n",
       "      <td>Other</td>\n",
       "      <td>Cardiology</td>\n",
       "      <td>2023-11-16</td>\n",
       "      <td>2023-12-23</td>\n",
       "      <td>NaN</td>\n",
       "      <td>Fracture</td>\n",
       "    </tr>\n",
       "    <tr>\n",
       "      <th>998</th>\n",
       "      <td>PAT1998</td>\n",
       "      <td>18</td>\n",
       "      <td>Male</td>\n",
       "      <td>Pediatrics</td>\n",
       "      <td>2023-07-09</td>\n",
       "      <td>2023-06-26</td>\n",
       "      <td>NaN</td>\n",
       "      <td>Diabetes</td>\n",
       "    </tr>\n",
       "    <tr>\n",
       "      <th>999</th>\n",
       "      <td>PAT1999</td>\n",
       "      <td>22</td>\n",
       "      <td>Other</td>\n",
       "      <td>Orthopedics</td>\n",
       "      <td>2023-03-09</td>\n",
       "      <td>2023-11-27</td>\n",
       "      <td>DR109</td>\n",
       "      <td>Migraine</td>\n",
       "    </tr>\n",
       "  </tbody>\n",
       "</table>\n",
       "<p>1000 rows × 8 columns</p>\n",
       "</div>"
      ],
      "text/plain": [
       "    PatientID  Age  Gender   Department AdmissionDate DischargeDate DoctorID  \\\n",
       "0     PAT1000   93  Female    Neurology    2023-11-27    2023-12-15      NaN   \n",
       "1     PAT1001   31    Male    Neurology    2023-09-10    2023-05-06    DR116   \n",
       "2     PAT1002   64   Other    Neurology    2023-06-18    2023-12-03    DR108   \n",
       "3     PAT1003   71   Other   Pediatrics    2023-10-12    2023-03-01    DR133   \n",
       "4     PAT1004   33   Other   Cardiology    2023-10-01    2023-04-08    DR144   \n",
       "..        ...  ...     ...          ...           ...           ...      ...   \n",
       "995   PAT1995   50  Female   Pediatrics    2023-03-21    2023-04-04    DR146   \n",
       "996   PAT1996   80    Male   Cardiology    2023-07-11    2023-11-26    DR103   \n",
       "997   PAT1997   41   Other   Cardiology    2023-11-16    2023-12-23      NaN   \n",
       "998   PAT1998   18    Male   Pediatrics    2023-07-09    2023-06-26      NaN   \n",
       "999   PAT1999   22   Other  Orthopedics    2023-03-09    2023-11-27    DR109   \n",
       "\n",
       "      Disease  \n",
       "0    Fracture  \n",
       "1         Flu  \n",
       "2      Cancer  \n",
       "3    Fracture  \n",
       "4    Fracture  \n",
       "..        ...  \n",
       "995  Migraine  \n",
       "996  Migraine  \n",
       "997  Fracture  \n",
       "998  Diabetes  \n",
       "999  Migraine  \n",
       "\n",
       "[1000 rows x 8 columns]"
      ]
     },
     "execution_count": 49,
     "metadata": {},
     "output_type": "execute_result"
    }
   ],
   "source": [
    "df.drop_duplicates(subset=['PatientID'])"
   ]
  },
  {
   "cell_type": "markdown",
   "id": "ebe33a5b",
   "metadata": {},
   "source": [
    "# question based on Numpy and Pandas"
   ]
  },
  {
   "cell_type": "markdown",
   "id": "bba40f69",
   "metadata": {},
   "source": [
    "1. What is the average value of a key numerical column?"
   ]
  },
  {
   "cell_type": "code",
   "execution_count": 63,
   "id": "ff4648b8",
   "metadata": {},
   "outputs": [
    {
     "name": "stdout",
     "output_type": "stream",
     "text": [
      "51.73399014778325\n"
     ]
    }
   ],
   "source": [
    "average_age = df[\"Age\"].mean()\n",
    "print(average_age)"
   ]
  },
  {
   "cell_type": "markdown",
   "id": "41853835",
   "metadata": {},
   "source": [
    " 2. Find the top 5 most frequent categories in a categorical column."
   ]
  },
  {
   "cell_type": "code",
   "execution_count": 42,
   "id": "546b8b35",
   "metadata": {},
   "outputs": [
    {
     "name": "stdout",
     "output_type": "stream",
     "text": [
      "Disease\n",
      "Migraine    215\n",
      "Fracture    209\n",
      "Diabetes    208\n",
      "Cancer      194\n",
      "Flu         189\n",
      "Name: count, dtype: int64\n"
     ]
    }
   ],
   "source": [
    "top_5_categories = df['Disease'].value_counts().head(5)\n",
    "print(top_5_categories)"
   ]
  },
  {
   "cell_type": "markdown",
   "id": "21d738c2",
   "metadata": {},
   "source": [
    "3. Identify and handle missing values in the dataset"
   ]
  },
  {
   "cell_type": "code",
   "execution_count": 43,
   "id": "ba40b6dc",
   "metadata": {},
   "outputs": [
    {
     "data": {
      "text/plain": [
       "PatientID          0\n",
       "Age                0\n",
       "Gender             0\n",
       "Department         0\n",
       "AdmissionDate      0\n",
       "DischargeDate      0\n",
       "DoctorID         295\n",
       "Disease            0\n",
       "dtype: int64"
      ]
     },
     "execution_count": 43,
     "metadata": {},
     "output_type": "execute_result"
    }
   ],
   "source": [
    "df = pd.read_csv(\"hospital_patient_records.csv\")\n",
    "df.isna().sum()"
   ]
  },
  {
   "cell_type": "code",
   "execution_count": 65,
   "id": "8ae1a7ae",
   "metadata": {},
   "outputs": [
    {
     "name": "stderr",
     "output_type": "stream",
     "text": [
      "C:\\Users\\hp\\AppData\\Local\\Temp\\ipykernel_4768\\2795288590.py:2: FutureWarning: A value is trying to be set on a copy of a DataFrame or Series through chained assignment using an inplace method.\n",
      "The behavior will change in pandas 3.0. This inplace method will never work because the intermediate object on which we are setting values always behaves as a copy.\n",
      "\n",
      "For example, when doing 'df[col].method(value, inplace=True)', try using 'df.method({col: value}, inplace=True)' or df[col] = df[col].method(value) instead, to perform the operation inplace on the original object.\n",
      "\n",
      "\n",
      "  df['Age'].fillna(df['Age'].mean(), inplace=True)\n",
      "C:\\Users\\hp\\AppData\\Local\\Temp\\ipykernel_4768\\2795288590.py:2: SettingWithCopyWarning: \n",
      "A value is trying to be set on a copy of a slice from a DataFrame\n",
      "\n",
      "See the caveats in the documentation: https://pandas.pydata.org/pandas-docs/stable/user_guide/indexing.html#returning-a-view-versus-a-copy\n",
      "  df['Age'].fillna(df['Age'].mean(), inplace=True)\n",
      "C:\\Users\\hp\\AppData\\Local\\Temp\\ipykernel_4768\\2795288590.py:3: FutureWarning: A value is trying to be set on a copy of a DataFrame or Series through chained assignment using an inplace method.\n",
      "The behavior will change in pandas 3.0. This inplace method will never work because the intermediate object on which we are setting values always behaves as a copy.\n",
      "\n",
      "For example, when doing 'df[col].method(value, inplace=True)', try using 'df.method({col: value}, inplace=True)' or df[col] = df[col].method(value) instead, to perform the operation inplace on the original object.\n",
      "\n",
      "\n",
      "  df['PatientID'].fillna('Unknown', inplace=True)\n",
      "C:\\Users\\hp\\AppData\\Local\\Temp\\ipykernel_4768\\2795288590.py:3: SettingWithCopyWarning: \n",
      "A value is trying to be set on a copy of a slice from a DataFrame\n",
      "\n",
      "See the caveats in the documentation: https://pandas.pydata.org/pandas-docs/stable/user_guide/indexing.html#returning-a-view-versus-a-copy\n",
      "  df['PatientID'].fillna('Unknown', inplace=True)\n",
      "C:\\Users\\hp\\AppData\\Local\\Temp\\ipykernel_4768\\2795288590.py:4: FutureWarning: A value is trying to be set on a copy of a DataFrame or Series through chained assignment using an inplace method.\n",
      "The behavior will change in pandas 3.0. This inplace method will never work because the intermediate object on which we are setting values always behaves as a copy.\n",
      "\n",
      "For example, when doing 'df[col].method(value, inplace=True)', try using 'df.method({col: value}, inplace=True)' or df[col] = df[col].method(value) instead, to perform the operation inplace on the original object.\n",
      "\n",
      "\n",
      "  df['Disease'].fillna(df['Disease'].mode()[0], inplace=True)\n",
      "C:\\Users\\hp\\AppData\\Local\\Temp\\ipykernel_4768\\2795288590.py:4: SettingWithCopyWarning: \n",
      "A value is trying to be set on a copy of a slice from a DataFrame\n",
      "\n",
      "See the caveats in the documentation: https://pandas.pydata.org/pandas-docs/stable/user_guide/indexing.html#returning-a-view-versus-a-copy\n",
      "  df['Disease'].fillna(df['Disease'].mode()[0], inplace=True)\n"
     ]
    }
   ],
   "source": [
    "# handle missing values\n",
    "df['Age'].fillna(df['Age'].mean(), inplace=True)\n",
    "df['PatientID'].fillna('Unknown', inplace=True)\n",
    "df['Disease'].fillna(df['Disease'].mode()[0], inplace=True)\n"
   ]
  },
  {
   "cell_type": "code",
   "execution_count": 74,
   "id": "6afdef99",
   "metadata": {},
   "outputs": [
    {
     "data": {
      "image/png": "[encoded data removed]",
      "text/plain": [
       "<Figure size 640x480 with 2 Axes>"
      ]
     },
     "metadata": {},
     "output_type": "display_data"
    }
   ],
   "source": [
    "s.heatmap(df.isnull(), cbar=True, cmap=\"viridis\")\n",
    "plt.title(\"Missing Value Map\")\n",
    "plt.show()"
   ]
  },
  {
   "cell_type": "markdown",
   "id": "fa755ae0",
   "metadata": {},
   "source": [
    "4. Determine correlation between two numerical columns."
   ]
  },
  {
   "cell_type": "code",
   "execution_count": null,
   "id": "b2c76bbc",
   "metadata": {},
   "outputs": [],
   "source": [
    "correlation = df['PatientID'].corr(df['Disease'])\n",
    "\n",
    "print(\"Correlation between PatientID and Disease:\", correlation)\n",
    "\n"
   ]
  },
  {
   "cell_type": "markdown",
   "id": "1013f7c2",
   "metadata": {},
   "source": [
    " 5. Group the data by a categorical column and calculate aggregate metrics."
   ]
  },
  {
   "cell_type": "code",
   "execution_count": 80,
   "id": "ac403bed",
   "metadata": {},
   "outputs": [
    {
     "name": "stdout",
     "output_type": "stream",
     "text": [
      "PatientID\n",
      "PAT1000    Fracture\n",
      "PAT1001         Flu\n",
      "PAT1002      Cancer\n",
      "PAT1003    Fracture\n",
      "PAT1004    Fracture\n",
      "             ...   \n",
      "PAT1995    Migraine\n",
      "PAT1996    Migraine\n",
      "PAT1997    Fracture\n",
      "PAT1998    Diabetes\n",
      "PAT1999    Migraine\n",
      "Name: Disease, Length: 1000, dtype: object\n"
     ]
    }
   ],
   "source": [
    "grouped_data = df.groupby(\"PatientID\")[\"Disease\"].sum()\n",
    "print(grouped_data)"
   ]
  },
  {
   "cell_type": "markdown",
   "id": "c5972d90",
   "metadata": {},
   "source": [
    "# Data Visualization Questions (Using Seaborn & Matplotlib)"
   ]
  },
  {
   "cell_type": "markdown",
   "id": "19877ae2",
   "metadata": {},
   "source": [
    "2. Create a bar plot to compare categories of a column."
   ]
  },
  {
   "cell_type": "code",
   "execution_count": null,
   "id": "92a3b896",
   "metadata": {},
   "outputs": [
    {
     "data": {
      "text/plain": [
       "<Axes: xlabel='count', ylabel='Gender'>"
      ]
     },
     "execution_count": 21,
     "metadata": {},
     "output_type": "execute_result"
    },
    {
     "data": {
      "image/png": "[encoded data removed]",
      "text/plain": [
       "<Figure size 640x480 with 1 Axes>"
      ]
     },
     "metadata": {},
     "output_type": "display_data"
    }
   ],
   "source": [
    "s.countplot(df[\"Gender\"],label=\"count\")"
   ]
  },
  {
   "cell_type": "markdown",
   "id": "fdf5b4fd",
   "metadata": {},
   "source": [
    "3. Generate a heatmap to show correlation among numerical columns."
   ]
  },
  {
   "cell_type": "code",
   "execution_count": 73,
   "id": "c0a19b23",
   "metadata": {},
   "outputs": [
    {
     "data": {
      "image/png": "[encoded data removed]",
      "text/plain": [
       "<Figure size 1200x800 with 2 Axes>"
      ]
     },
     "metadata": {},
     "output_type": "display_data"
    }
   ],
   "source": [
    "corr_matrix = df.corr(numeric_only=True)\n",
    "plt.figure(figsize=(12, 8))\n",
    "s.heatmap(corr_matrix, annot=True,  cmap=\"coolwarm\", square=True, linewidths=0.5)\n",
    "plt.title(\"Correlation Heatmap\")\n",
    "plt.show()\n",
    "\n"
   ]
  },
  {
   "cell_type": "markdown",
   "id": "36981c64",
   "metadata": {},
   "source": [
    "4. Create a line plot or time series plot to analyze trends over time."
   ]
  },
  {
   "cell_type": "code",
   "execution_count": 88,
   "id": "f16fb055",
   "metadata": {},
   "outputs": [
    {
     "data": {
      "image/png": "[encoded data removed]",
      "text/plain": [
       "<Figure size 1000x600 with 1 Axes>"
      ]
     },
     "metadata": {},
     "output_type": "display_data"
    }
   ],
   "source": [
    "# line chart \n",
    "plt.figure(figsize=(10,6))\n",
    "plt.plot(df['Department'],label='Department',marker='o')\n",
    "plt.plot(df['Disease'],label='Disease',marker='s')\n",
    "plt.xlabel('Department')\n",
    "plt.ylabel('Disease')\n",
    "plt.title('line chart')\n",
    "plt.legend()\n",
    "plt.grid(True)\n",
    "plt.show()"
   ]
  },
  {
   "cell_type": "markdown",
   "id": "ea3b7d5f",
   "metadata": {},
   "source": [
    "1. Plot the distribution of a key numerical column using a histogram or KDE plot."
   ]
  },
  {
   "cell_type": "code",
   "execution_count": null,
   "id": "c7c097a1",
   "metadata": {},
   "outputs": [
    {
     "data": {
      "image/png": "[encoded data removed]",
      "text/plain": [
       "<Figure size 1000x600 with 1 Axes>"
      ]
     },
     "metadata": {},
     "output_type": "display_data"
    }
   ],
   "source": [
    "# Plot histogram and KDE\n",
    "plt.figure(figsize=(10,6))\n",
    "s.histplot(df['Disease'].dropna(), kde=True, bins=30, color='skyblue')\n",
    "plt.title('Distribution of Disease')\n",
    "plt.xlabel('Disease')\n",
    "plt.ylabel('Frequency')\n",
    "plt.grid(True)\n",
    "plt.show()"
   ]
  },
  {
   "cell_type": "markdown",
   "id": "eb87f643",
   "metadata": {},
   "source": [
    " 5. Use a box plot to detect outliers in a numerical column."
   ]
  },
  {
   "cell_type": "code",
   "execution_count": 89,
   "id": "2b457e63",
   "metadata": {},
   "outputs": [
    {
     "data": {
      "image/png": "[encoded data removed]",
      "text/plain": [
       "<Figure size 800x600 with 1 Axes>"
      ]
     },
     "metadata": {},
     "output_type": "display_data"
    }
   ],
   "source": [
    "plt.figure(figsize=(8, 6))\n",
    "s.boxplot(x=df['Age'])  \n",
    "plt.title('Box Plot of Age')\n",
    "plt.xlabel('Age')\n",
    "plt.grid(True)\n",
    "plt.show()"
   ]
  },
  {
   "cell_type": "code",
   "execution_count": null,
   "id": "0e915341",
   "metadata": {},
   "outputs": [],
   "source": []
  }
 ],
 "metadata": {
  "kernelspec": {
   "display_name": "Python 3",
   "language": "python",
   "name": "python3"
  },
  "language_info": {
   "codemirror_mode": {
    "name": "ipython",
    "version": 3
   },
   "file_extension": ".py",
   "mimetype": "text/x-python",
   "name": "python",
   "nbconvert_exporter": "python",
   "pygments_lexer": "ipython3",
   "version": "3.13.0"
  }
 },
 "nbformat": 4,
 "nbformat_minor": 5
}
