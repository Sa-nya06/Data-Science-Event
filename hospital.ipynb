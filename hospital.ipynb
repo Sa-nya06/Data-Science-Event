{
 "cells": [
  {
   "cell_type": "code",
   "execution_count": 3,
   "id": "7b7e3020",
   "metadata": {},
   "outputs": [],
   "source": [
    "import numpy as np \n",
    "import pandas as pd\n",
    "import matplotlib.pyplot as plt\n",
    "import seaborn as s"
   ]
  },
  {
   "cell_type": "code",
   "execution_count": 4,
   "id": "6aa7e6bf",
   "metadata": {},
   "outputs": [],
   "source": [
    "df = pd.read_csv(\"hospital_patient_records.csv\")"
   ]
  },
  {
   "cell_type": "code",
   "execution_count": 5,
   "id": "d3e25a0d",
   "metadata": {},
   "outputs": [
    {
     "data": {
      "text/html": [
       "<div>\n",
       "<style scoped>\n",
       "    .dataframe tbody tr th:only-of-type {\n",
       "        vertical-align: middle;\n",
       "    }\n",
       "\n",
       "    .dataframe tbody tr th {\n",
       "        vertical-align: top;\n",
       "    }\n",
       "\n",
       "    .dataframe thead th {\n",
       "        text-align: right;\n",
       "    }\n",
       "</style>\n",
       "<table border=\"1\" class=\"dataframe\">\n",
       "  <thead>\n",
       "    <tr style=\"text-align: right;\">\n",
       "      <th></th>\n",
       "      <th>PatientID</th>\n",
       "      <th>Age</th>\n",
       "      <th>Gender</th>\n",
       "      <th>Department</th>\n",
       "      <th>AdmissionDate</th>\n",
       "      <th>DischargeDate</th>\n",
       "      <th>DoctorID</th>\n",
       "      <th>Disease</th>\n",
       "    </tr>\n",
       "  </thead>\n",
       "  <tbody>\n",
       "    <tr>\n",
       "      <th>0</th>\n",
       "      <td>PAT1000</td>\n",
       "      <td>93</td>\n",
       "      <td>Female</td>\n",
       "      <td>Neurology</td>\n",
       "      <td>2023-11-27</td>\n",
       "      <td>2023-12-15</td>\n",
       "      <td>NaN</td>\n",
       "      <td>Fracture</td>\n",
       "    </tr>\n",
       "    <tr>\n",
       "      <th>1</th>\n",
       "      <td>PAT1001</td>\n",
       "      <td>31</td>\n",
       "      <td>Male</td>\n",
       "      <td>Neurology</td>\n",
       "      <td>2023-09-10</td>\n",
       "      <td>2023-05-06</td>\n",
       "      <td>DR116</td>\n",
       "      <td>Flu</td>\n",
       "    </tr>\n",
       "    <tr>\n",
       "      <th>2</th>\n",
       "      <td>PAT1002</td>\n",
       "      <td>64</td>\n",
       "      <td>Other</td>\n",
       "      <td>Neurology</td>\n",
       "      <td>2023-06-18</td>\n",
       "      <td>2023-12-03</td>\n",
       "      <td>DR108</td>\n",
       "      <td>Cancer</td>\n",
       "    </tr>\n",
       "    <tr>\n",
       "      <th>3</th>\n",
       "      <td>PAT1003</td>\n",
       "      <td>71</td>\n",
       "      <td>Other</td>\n",
       "      <td>Pediatrics</td>\n",
       "      <td>2023-10-12</td>\n",
       "      <td>2023-03-01</td>\n",
       "      <td>DR133</td>\n",
       "      <td>Fracture</td>\n",
       "    </tr>\n",
       "    <tr>\n",
       "      <th>4</th>\n",
       "      <td>PAT1004</td>\n",
       "      <td>33</td>\n",
       "      <td>Other</td>\n",
       "      <td>Cardiology</td>\n",
       "      <td>2023-10-01</td>\n",
       "      <td>2023-04-08</td>\n",
       "      <td>DR144</td>\n",
       "      <td>Fracture</td>\n",
       "    </tr>\n",
       "    <tr>\n",
       "      <th>...</th>\n",
       "      <td>...</td>\n",
       "      <td>...</td>\n",
       "      <td>...</td>\n",
       "      <td>...</td>\n",
       "      <td>...</td>\n",
       "      <td>...</td>\n",
       "      <td>...</td>\n",
       "      <td>...</td>\n",
       "    </tr>\n",
       "    <tr>\n",
       "      <th>1010</th>\n",
       "      <td>PAT1864</td>\n",
       "      <td>43</td>\n",
       "      <td>Female</td>\n",
       "      <td>Neurology</td>\n",
       "      <td>2023-06-08</td>\n",
       "      <td>2023-03-25</td>\n",
       "      <td>DR144</td>\n",
       "      <td>Cancer</td>\n",
       "    </tr>\n",
       "    <tr>\n",
       "      <th>1011</th>\n",
       "      <td>PAT1643</td>\n",
       "      <td>63</td>\n",
       "      <td>Other</td>\n",
       "      <td>Cardiology</td>\n",
       "      <td>2023-08-18</td>\n",
       "      <td>2023-12-31</td>\n",
       "      <td>DR104</td>\n",
       "      <td>Migraine</td>\n",
       "    </tr>\n",
       "    <tr>\n",
       "      <th>1012</th>\n",
       "      <td>PAT1162</td>\n",
       "      <td>12</td>\n",
       "      <td>Female</td>\n",
       "      <td>Orthopedics</td>\n",
       "      <td>2023-04-12</td>\n",
       "      <td>2023-12-05</td>\n",
       "      <td>DR110</td>\n",
       "      <td>Cancer</td>\n",
       "    </tr>\n",
       "    <tr>\n",
       "      <th>1013</th>\n",
       "      <td>PAT1523</td>\n",
       "      <td>68</td>\n",
       "      <td>Female</td>\n",
       "      <td>Orthopedics</td>\n",
       "      <td>2023-09-17</td>\n",
       "      <td>2023-07-02</td>\n",
       "      <td>DR120</td>\n",
       "      <td>Cancer</td>\n",
       "    </tr>\n",
       "    <tr>\n",
       "      <th>1014</th>\n",
       "      <td>PAT1241</td>\n",
       "      <td>94</td>\n",
       "      <td>Female</td>\n",
       "      <td>Cardiology</td>\n",
       "      <td>2023-03-30</td>\n",
       "      <td>2023-09-28</td>\n",
       "      <td>DR121</td>\n",
       "      <td>Flu</td>\n",
       "    </tr>\n",
       "  </tbody>\n",
       "</table>\n",
       "<p>1015 rows × 8 columns</p>\n",
       "</div>"
      ],
      "text/plain": [
       "     PatientID  Age  Gender   Department AdmissionDate DischargeDate DoctorID  \\\n",
       "0      PAT1000   93  Female    Neurology    2023-11-27    2023-12-15      NaN   \n",
       "1      PAT1001   31    Male    Neurology    2023-09-10    2023-05-06    DR116   \n",
       "2      PAT1002   64   Other    Neurology    2023-06-18    2023-12-03    DR108   \n",
       "3      PAT1003   71   Other   Pediatrics    2023-10-12    2023-03-01    DR133   \n",
       "4      PAT1004   33   Other   Cardiology    2023-10-01    2023-04-08    DR144   \n",
       "...        ...  ...     ...          ...           ...           ...      ...   \n",
       "1010   PAT1864   43  Female    Neurology    2023-06-08    2023-03-25    DR144   \n",
       "1011   PAT1643   63   Other   Cardiology    2023-08-18    2023-12-31    DR104   \n",
       "1012   PAT1162   12  Female  Orthopedics    2023-04-12    2023-12-05    DR110   \n",
       "1013   PAT1523   68  Female  Orthopedics    2023-09-17    2023-07-02    DR120   \n",
       "1014   PAT1241   94  Female   Cardiology    2023-03-30    2023-09-28    DR121   \n",
       "\n",
       "       Disease  \n",
       "0     Fracture  \n",
       "1          Flu  \n",
       "2       Cancer  \n",
       "3     Fracture  \n",
       "4     Fracture  \n",
       "...        ...  \n",
       "1010    Cancer  \n",
       "1011  Migraine  \n",
       "1012    Cancer  \n",
       "1013    Cancer  \n",
       "1014       Flu  \n",
       "\n",
       "[1015 rows x 8 columns]"
      ]
     },
     "execution_count": 5,
     "metadata": {},
     "output_type": "execute_result"
    }
   ],
   "source": [
    "df"
   ]
  },
  {
   "cell_type": "code",
   "execution_count": 6,
   "id": "8cd140c0",
   "metadata": {},
   "outputs": [
    {
     "data": {
      "text/plain": [
       "<bound method DataFrame.info of      PatientID  Age  Gender   Department AdmissionDate DischargeDate DoctorID  \\\n",
       "0      PAT1000   93  Female    Neurology    2023-11-27    2023-12-15      NaN   \n",
       "1      PAT1001   31    Male    Neurology    2023-09-10    2023-05-06    DR116   \n",
       "2      PAT1002   64   Other    Neurology    2023-06-18    2023-12-03    DR108   \n",
       "3      PAT1003   71   Other   Pediatrics    2023-10-12    2023-03-01    DR133   \n",
       "4      PAT1004   33   Other   Cardiology    2023-10-01    2023-04-08    DR144   \n",
       "...        ...  ...     ...          ...           ...           ...      ...   \n",
       "1010   PAT1864   43  Female    Neurology    2023-06-08    2023-03-25    DR144   \n",
       "1011   PAT1643   63   Other   Cardiology    2023-08-18    2023-12-31    DR104   \n",
       "1012   PAT1162   12  Female  Orthopedics    2023-04-12    2023-12-05    DR110   \n",
       "1013   PAT1523   68  Female  Orthopedics    2023-09-17    2023-07-02    DR120   \n",
       "1014   PAT1241   94  Female   Cardiology    2023-03-30    2023-09-28    DR121   \n",
       "\n",
       "       Disease  \n",
       "0     Fracture  \n",
       "1          Flu  \n",
       "2       Cancer  \n",
       "3     Fracture  \n",
       "4     Fracture  \n",
       "...        ...  \n",
       "1010    Cancer  \n",
       "1011  Migraine  \n",
       "1012    Cancer  \n",
       "1013    Cancer  \n",
       "1014       Flu  \n",
       "\n",
       "[1015 rows x 8 columns]>"
      ]
     },
     "execution_count": 6,
     "metadata": {},
     "output_type": "execute_result"
    }
   ],
   "source": [
    "df.info"
   ]
  },
  {
   "cell_type": "code",
   "execution_count": 7,
   "id": "83452e49",
   "metadata": {},
   "outputs": [
    {
     "data": {
      "text/html": [
       "<div>\n",
       "<style scoped>\n",
       "    .dataframe tbody tr th:only-of-type {\n",
       "        vertical-align: middle;\n",
       "    }\n",
       "\n",
       "    .dataframe tbody tr th {\n",
       "        vertical-align: top;\n",
       "    }\n",
       "\n",
       "    .dataframe thead th {\n",
       "        text-align: right;\n",
       "    }\n",
       "</style>\n",
       "<table border=\"1\" class=\"dataframe\">\n",
       "  <thead>\n",
       "    <tr style=\"text-align: right;\">\n",
       "      <th></th>\n",
       "      <th>PatientID</th>\n",
       "      <th>Age</th>\n",
       "      <th>Gender</th>\n",
       "      <th>Department</th>\n",
       "      <th>AdmissionDate</th>\n",
       "      <th>DischargeDate</th>\n",
       "      <th>DoctorID</th>\n",
       "      <th>Disease</th>\n",
       "    </tr>\n",
       "  </thead>\n",
       "  <tbody>\n",
       "    <tr>\n",
       "      <th>0</th>\n",
       "      <td>False</td>\n",
       "      <td>False</td>\n",
       "      <td>False</td>\n",
       "      <td>False</td>\n",
       "      <td>False</td>\n",
       "      <td>False</td>\n",
       "      <td>True</td>\n",
       "      <td>False</td>\n",
       "    </tr>\n",
       "    <tr>\n",
       "      <th>1</th>\n",
       "      <td>False</td>\n",
       "      <td>False</td>\n",
       "      <td>False</td>\n",
       "      <td>False</td>\n",
       "      <td>False</td>\n",
       "      <td>False</td>\n",
       "      <td>False</td>\n",
       "      <td>False</td>\n",
       "    </tr>\n",
       "    <tr>\n",
       "      <th>2</th>\n",
       "      <td>False</td>\n",
       "      <td>False</td>\n",
       "      <td>False</td>\n",
       "      <td>False</td>\n",
       "      <td>False</td>\n",
       "      <td>False</td>\n",
       "      <td>False</td>\n",
       "      <td>False</td>\n",
       "    </tr>\n",
       "    <tr>\n",
       "      <th>3</th>\n",
       "      <td>False</td>\n",
       "      <td>False</td>\n",
       "      <td>False</td>\n",
       "      <td>False</td>\n",
       "      <td>False</td>\n",
       "      <td>False</td>\n",
       "      <td>False</td>\n",
       "      <td>False</td>\n",
       "    </tr>\n",
       "    <tr>\n",
       "      <th>4</th>\n",
       "      <td>False</td>\n",
       "      <td>False</td>\n",
       "      <td>False</td>\n",
       "      <td>False</td>\n",
       "      <td>False</td>\n",
       "      <td>False</td>\n",
       "      <td>False</td>\n",
       "      <td>False</td>\n",
       "    </tr>\n",
       "    <tr>\n",
       "      <th>...</th>\n",
       "      <td>...</td>\n",
       "      <td>...</td>\n",
       "      <td>...</td>\n",
       "      <td>...</td>\n",
       "      <td>...</td>\n",
       "      <td>...</td>\n",
       "      <td>...</td>\n",
       "      <td>...</td>\n",
       "    </tr>\n",
       "    <tr>\n",
       "      <th>1010</th>\n",
       "      <td>False</td>\n",
       "      <td>False</td>\n",
       "      <td>False</td>\n",
       "      <td>False</td>\n",
       "      <td>False</td>\n",
       "      <td>False</td>\n",
       "      <td>False</td>\n",
       "      <td>False</td>\n",
       "    </tr>\n",
       "    <tr>\n",
       "      <th>1011</th>\n",
       "      <td>False</td>\n",
       "      <td>False</td>\n",
       "      <td>False</td>\n",
       "      <td>False</td>\n",
       "      <td>False</td>\n",
       "      <td>False</td>\n",
       "      <td>False</td>\n",
       "      <td>False</td>\n",
       "    </tr>\n",
       "    <tr>\n",
       "      <th>1012</th>\n",
       "      <td>False</td>\n",
       "      <td>False</td>\n",
       "      <td>False</td>\n",
       "      <td>False</td>\n",
       "      <td>False</td>\n",
       "      <td>False</td>\n",
       "      <td>False</td>\n",
       "      <td>False</td>\n",
       "    </tr>\n",
       "    <tr>\n",
       "      <th>1013</th>\n",
       "      <td>False</td>\n",
       "      <td>False</td>\n",
       "      <td>False</td>\n",
       "      <td>False</td>\n",
       "      <td>False</td>\n",
       "      <td>False</td>\n",
       "      <td>False</td>\n",
       "      <td>False</td>\n",
       "    </tr>\n",
       "    <tr>\n",
       "      <th>1014</th>\n",
       "      <td>False</td>\n",
       "      <td>False</td>\n",
       "      <td>False</td>\n",
       "      <td>False</td>\n",
       "      <td>False</td>\n",
       "      <td>False</td>\n",
       "      <td>False</td>\n",
       "      <td>False</td>\n",
       "    </tr>\n",
       "  </tbody>\n",
       "</table>\n",
       "<p>1015 rows × 8 columns</p>\n",
       "</div>"
      ],
      "text/plain": [
       "      PatientID    Age  Gender  Department  AdmissionDate  DischargeDate  \\\n",
       "0         False  False   False       False          False          False   \n",
       "1         False  False   False       False          False          False   \n",
       "2         False  False   False       False          False          False   \n",
       "3         False  False   False       False          False          False   \n",
       "4         False  False   False       False          False          False   \n",
       "...         ...    ...     ...         ...            ...            ...   \n",
       "1010      False  False   False       False          False          False   \n",
       "1011      False  False   False       False          False          False   \n",
       "1012      False  False   False       False          False          False   \n",
       "1013      False  False   False       False          False          False   \n",
       "1014      False  False   False       False          False          False   \n",
       "\n",
       "      DoctorID  Disease  \n",
       "0         True    False  \n",
       "1        False    False  \n",
       "2        False    False  \n",
       "3        False    False  \n",
       "4        False    False  \n",
       "...        ...      ...  \n",
       "1010     False    False  \n",
       "1011     False    False  \n",
       "1012     False    False  \n",
       "1013     False    False  \n",
       "1014     False    False  \n",
       "\n",
       "[1015 rows x 8 columns]"
      ]
     },
     "execution_count": 7,
     "metadata": {},
     "output_type": "execute_result"
    }
   ],
   "source": [
    "df.isna()"
   ]
  },
  {
   "cell_type": "code",
   "execution_count": 8,
   "id": "23049b32",
   "metadata": {},
   "outputs": [
    {
     "data": {
      "text/plain": [
       "PatientID          0\n",
       "Age                0\n",
       "Gender             0\n",
       "Department         0\n",
       "AdmissionDate      0\n",
       "DischargeDate      0\n",
       "DoctorID         295\n",
       "Disease            0\n",
       "dtype: int64"
      ]
     },
     "execution_count": 8,
     "metadata": {},
     "output_type": "execute_result"
    }
   ],
   "source": [
    "df.isna().sum()"
   ]
  },
  {
   "cell_type": "code",
   "execution_count": 9,
   "id": "f96b2f67",
   "metadata": {},
   "outputs": [
    {
     "data": {
      "text/plain": [
       "PatientID          0\n",
       "Age                0\n",
       "Gender             0\n",
       "Department         0\n",
       "AdmissionDate      0\n",
       "DischargeDate      0\n",
       "DoctorID         295\n",
       "Disease            0\n",
       "dtype: int64"
      ]
     },
     "execution_count": 9,
     "metadata": {},
     "output_type": "execute_result"
    }
   ],
   "source": [
    "df.isnull().sum()"
   ]
  },
  {
   "cell_type": "code",
   "execution_count": 10,
   "id": "3eb40251",
   "metadata": {},
   "outputs": [],
   "source": [
    "df =  df.dropna(axis=1)"
   ]
  },
  {
   "cell_type": "code",
   "execution_count": 11,
   "id": "b7f89aab",
   "metadata": {},
   "outputs": [
    {
     "data": {
      "text/html": [
       "<div>\n",
       "<style scoped>\n",
       "    .dataframe tbody tr th:only-of-type {\n",
       "        vertical-align: middle;\n",
       "    }\n",
       "\n",
       "    .dataframe tbody tr th {\n",
       "        vertical-align: top;\n",
       "    }\n",
       "\n",
       "    .dataframe thead th {\n",
       "        text-align: right;\n",
       "    }\n",
       "</style>\n",
       "<table border=\"1\" class=\"dataframe\">\n",
       "  <thead>\n",
       "    <tr style=\"text-align: right;\">\n",
       "      <th></th>\n",
       "      <th>PatientID</th>\n",
       "      <th>Age</th>\n",
       "      <th>Gender</th>\n",
       "      <th>Department</th>\n",
       "      <th>AdmissionDate</th>\n",
       "      <th>DischargeDate</th>\n",
       "      <th>Disease</th>\n",
       "    </tr>\n",
       "  </thead>\n",
       "  <tbody>\n",
       "    <tr>\n",
       "      <th>0</th>\n",
       "      <td>PAT1000</td>\n",
       "      <td>93</td>\n",
       "      <td>Female</td>\n",
       "      <td>Neurology</td>\n",
       "      <td>2023-11-27</td>\n",
       "      <td>2023-12-15</td>\n",
       "      <td>Fracture</td>\n",
       "    </tr>\n",
       "    <tr>\n",
       "      <th>1</th>\n",
       "      <td>PAT1001</td>\n",
       "      <td>31</td>\n",
       "      <td>Male</td>\n",
       "      <td>Neurology</td>\n",
       "      <td>2023-09-10</td>\n",
       "      <td>2023-05-06</td>\n",
       "      <td>Flu</td>\n",
       "    </tr>\n",
       "    <tr>\n",
       "      <th>2</th>\n",
       "      <td>PAT1002</td>\n",
       "      <td>64</td>\n",
       "      <td>Other</td>\n",
       "      <td>Neurology</td>\n",
       "      <td>2023-06-18</td>\n",
       "      <td>2023-12-03</td>\n",
       "      <td>Cancer</td>\n",
       "    </tr>\n",
       "    <tr>\n",
       "      <th>3</th>\n",
       "      <td>PAT1003</td>\n",
       "      <td>71</td>\n",
       "      <td>Other</td>\n",
       "      <td>Pediatrics</td>\n",
       "      <td>2023-10-12</td>\n",
       "      <td>2023-03-01</td>\n",
       "      <td>Fracture</td>\n",
       "    </tr>\n",
       "    <tr>\n",
       "      <th>4</th>\n",
       "      <td>PAT1004</td>\n",
       "      <td>33</td>\n",
       "      <td>Other</td>\n",
       "      <td>Cardiology</td>\n",
       "      <td>2023-10-01</td>\n",
       "      <td>2023-04-08</td>\n",
       "      <td>Fracture</td>\n",
       "    </tr>\n",
       "    <tr>\n",
       "      <th>...</th>\n",
       "      <td>...</td>\n",
       "      <td>...</td>\n",
       "      <td>...</td>\n",
       "      <td>...</td>\n",
       "      <td>...</td>\n",
       "      <td>...</td>\n",
       "      <td>...</td>\n",
       "    </tr>\n",
       "    <tr>\n",
       "      <th>1010</th>\n",
       "      <td>PAT1864</td>\n",
       "      <td>43</td>\n",
       "      <td>Female</td>\n",
       "      <td>Neurology</td>\n",
       "      <td>2023-06-08</td>\n",
       "      <td>2023-03-25</td>\n",
       "      <td>Cancer</td>\n",
       "    </tr>\n",
       "    <tr>\n",
       "      <th>1011</th>\n",
       "      <td>PAT1643</td>\n",
       "      <td>63</td>\n",
       "      <td>Other</td>\n",
       "      <td>Cardiology</td>\n",
       "      <td>2023-08-18</td>\n",
       "      <td>2023-12-31</td>\n",
       "      <td>Migraine</td>\n",
       "    </tr>\n",
       "    <tr>\n",
       "      <th>1012</th>\n",
       "      <td>PAT1162</td>\n",
       "      <td>12</td>\n",
       "      <td>Female</td>\n",
       "      <td>Orthopedics</td>\n",
       "      <td>2023-04-12</td>\n",
       "      <td>2023-12-05</td>\n",
       "      <td>Cancer</td>\n",
       "    </tr>\n",
       "    <tr>\n",
       "      <th>1013</th>\n",
       "      <td>PAT1523</td>\n",
       "      <td>68</td>\n",
       "      <td>Female</td>\n",
       "      <td>Orthopedics</td>\n",
       "      <td>2023-09-17</td>\n",
       "      <td>2023-07-02</td>\n",
       "      <td>Cancer</td>\n",
       "    </tr>\n",
       "    <tr>\n",
       "      <th>1014</th>\n",
       "      <td>PAT1241</td>\n",
       "      <td>94</td>\n",
       "      <td>Female</td>\n",
       "      <td>Cardiology</td>\n",
       "      <td>2023-03-30</td>\n",
       "      <td>2023-09-28</td>\n",
       "      <td>Flu</td>\n",
       "    </tr>\n",
       "  </tbody>\n",
       "</table>\n",
       "<p>1015 rows × 7 columns</p>\n",
       "</div>"
      ],
      "text/plain": [
       "     PatientID  Age  Gender   Department AdmissionDate DischargeDate   Disease\n",
       "0      PAT1000   93  Female    Neurology    2023-11-27    2023-12-15  Fracture\n",
       "1      PAT1001   31    Male    Neurology    2023-09-10    2023-05-06       Flu\n",
       "2      PAT1002   64   Other    Neurology    2023-06-18    2023-12-03    Cancer\n",
       "3      PAT1003   71   Other   Pediatrics    2023-10-12    2023-03-01  Fracture\n",
       "4      PAT1004   33   Other   Cardiology    2023-10-01    2023-04-08  Fracture\n",
       "...        ...  ...     ...          ...           ...           ...       ...\n",
       "1010   PAT1864   43  Female    Neurology    2023-06-08    2023-03-25    Cancer\n",
       "1011   PAT1643   63   Other   Cardiology    2023-08-18    2023-12-31  Migraine\n",
       "1012   PAT1162   12  Female  Orthopedics    2023-04-12    2023-12-05    Cancer\n",
       "1013   PAT1523   68  Female  Orthopedics    2023-09-17    2023-07-02    Cancer\n",
       "1014   PAT1241   94  Female   Cardiology    2023-03-30    2023-09-28       Flu\n",
       "\n",
       "[1015 rows x 7 columns]"
      ]
     },
     "execution_count": 11,
     "metadata": {},
     "output_type": "execute_result"
    }
   ],
   "source": [
    "df"
   ]
  },
  {
   "cell_type": "code",
   "execution_count": 12,
   "id": "a1a09e64",
   "metadata": {},
   "outputs": [
    {
     "data": {
      "text/plain": [
       "(1015, 7)"
      ]
     },
     "execution_count": 12,
     "metadata": {},
     "output_type": "execute_result"
    }
   ],
   "source": [
    "df.shape"
   ]
  },
  {
   "cell_type": "code",
   "execution_count": 13,
   "id": "c91318b8",
   "metadata": {},
   "outputs": [
    {
     "data": {
      "text/plain": [
       "7105"
      ]
     },
     "execution_count": 13,
     "metadata": {},
     "output_type": "execute_result"
    }
   ],
   "source": [
    "df.size"
   ]
  },
  {
   "cell_type": "code",
   "execution_count": 14,
   "id": "bd66d271",
   "metadata": {},
   "outputs": [
    {
     "data": {
      "text/plain": [
       "<bound method NDFrame.describe of      PatientID  Age  Gender   Department AdmissionDate DischargeDate   Disease\n",
       "0      PAT1000   93  Female    Neurology    2023-11-27    2023-12-15  Fracture\n",
       "1      PAT1001   31    Male    Neurology    2023-09-10    2023-05-06       Flu\n",
       "2      PAT1002   64   Other    Neurology    2023-06-18    2023-12-03    Cancer\n",
       "3      PAT1003   71   Other   Pediatrics    2023-10-12    2023-03-01  Fracture\n",
       "4      PAT1004   33   Other   Cardiology    2023-10-01    2023-04-08  Fracture\n",
       "...        ...  ...     ...          ...           ...           ...       ...\n",
       "1010   PAT1864   43  Female    Neurology    2023-06-08    2023-03-25    Cancer\n",
       "1011   PAT1643   63   Other   Cardiology    2023-08-18    2023-12-31  Migraine\n",
       "1012   PAT1162   12  Female  Orthopedics    2023-04-12    2023-12-05    Cancer\n",
       "1013   PAT1523   68  Female  Orthopedics    2023-09-17    2023-07-02    Cancer\n",
       "1014   PAT1241   94  Female   Cardiology    2023-03-30    2023-09-28       Flu\n",
       "\n",
       "[1015 rows x 7 columns]>"
      ]
     },
     "execution_count": 14,
     "metadata": {},
     "output_type": "execute_result"
    }
   ],
   "source": [
    "df.describe"
   ]
  },
  {
   "cell_type": "code",
   "execution_count": 15,
   "id": "0e2e3ebd",
   "metadata": {},
   "outputs": [
    {
     "data": {
      "text/plain": [
       "Gender\n",
       "Female    351\n",
       "Other     340\n",
       "Male      324\n",
       "Name: count, dtype: int64"
      ]
     },
     "execution_count": 15,
     "metadata": {},
     "output_type": "execute_result"
    }
   ],
   "source": [
    "df[\"Gender\"].value_counts()"
   ]
  },
  {
   "cell_type": "markdown",
   "id": "ebe33a5b",
   "metadata": {},
   "source": [
    "# question based on Numpy and Pandas"
   ]
  },
  {
   "cell_type": "markdown",
   "id": "bba40f69",
   "metadata": {},
   "source": [
    "1. What is the average value of a key numerical column?"
   ]
  },
  {
   "cell_type": "code",
   "execution_count": 16,
   "id": "ff4648b8",
   "metadata": {},
   "outputs": [
    {
     "name": "stdout",
     "output_type": "stream",
     "text": [
      "51.73399014778325\n"
     ]
    }
   ],
   "source": [
    "average_age = df[\"Age\"].mean()\n",
    "print(average_age)"
   ]
  },
  {
   "cell_type": "markdown",
   "id": "41853835",
   "metadata": {},
   "source": [
    " 2. Find the top 5 most frequent categories in a categorical column."
   ]
  },
  {
   "cell_type": "code",
   "execution_count": 17,
   "id": "546b8b35",
   "metadata": {},
   "outputs": [
    {
     "name": "stdout",
     "output_type": "stream",
     "text": [
      "Disease\n",
      "Migraine    215\n",
      "Fracture    209\n",
      "Diabetes    208\n",
      "Cancer      194\n",
      "Flu         189\n",
      "Name: count, dtype: int64\n"
     ]
    }
   ],
   "source": [
    "top_5_categories = df['Disease'].value_counts().head(5)\n",
    "print(top_5_categories)"
   ]
  },
  {
   "cell_type": "markdown",
   "id": "21d738c2",
   "metadata": {},
   "source": [
    "3. Identify and handle missing values in the dataset"
   ]
  },
  {
   "cell_type": "code",
   "execution_count": 18,
   "id": "ba40b6dc",
   "metadata": {},
   "outputs": [
    {
     "data": {
      "text/plain": [
       "PatientID          0\n",
       "Age                0\n",
       "Gender             0\n",
       "Department         0\n",
       "AdmissionDate      0\n",
       "DischargeDate      0\n",
       "DoctorID         295\n",
       "Disease            0\n",
       "dtype: int64"
      ]
     },
     "execution_count": 18,
     "metadata": {},
     "output_type": "execute_result"
    }
   ],
   "source": [
    "df = pd.read_csv(\"hospital_patient_records.csv\")\n",
    "df.isna().sum()"
   ]
  },
  {
   "cell_type": "code",
   "execution_count": 19,
   "id": "8ae1a7ae",
   "metadata": {},
   "outputs": [],
   "source": [
    "# handle missing values"
   ]
  },
  {
   "cell_type": "markdown",
   "id": "fa755ae0",
   "metadata": {},
   "source": [
    "4. Determine correlation between two numerical columns."
   ]
  },
  {
   "cell_type": "code",
   "execution_count": 20,
   "id": "044182f4",
   "metadata": {},
   "outputs": [
    {
     "ename": "SyntaxError",
     "evalue": "invalid syntax (778019161.py, line 4)",
     "output_type": "error",
     "traceback": [
      "\u001b[1;36m  Cell \u001b[1;32mIn[20], line 4\u001b[1;36m\u001b[0m\n\u001b[1;33m    correlation between PatientId and Disease as through this we can go to know about the unique id of patient adn its disease .\u001b[0m\n\u001b[1;37m                ^\u001b[0m\n\u001b[1;31mSyntaxError\u001b[0m\u001b[1;31m:\u001b[0m invalid syntax\n"
     ]
    }
   ],
   "source": [
    "correlation = data['PatientID'].corr(data['Disease'])\n",
    "print(\"Correlation:\", correlation)\n",
    "\n",
    "correlation between PatientId and Disease as through this we can go to know about the unique id of patient adn its disease ."
   ]
  },
  {
   "cell_type": "markdown",
   "id": "1013f7c2",
   "metadata": {},
   "source": [
    " 5. Group the data by a categorical column and calculate aggregate metrics."
   ]
  },
  {
   "cell_type": "code",
   "execution_count": null,
   "id": "ef74246b",
   "metadata": {},
   "outputs": [],
   "source": []
  },
  {
   "cell_type": "markdown",
   "id": "c5972d90",
   "metadata": {},
   "source": [
    "# Data Visualization Questions (Using Seaborn & Matplotlib)"
   ]
  },
  {
   "cell_type": "markdown",
   "id": "19877ae2",
   "metadata": {},
   "source": [
    "2. Create a bar plot to compare categories of a column."
   ]
  },
  {
   "cell_type": "code",
   "execution_count": null,
   "id": "92a3b896",
   "metadata": {},
   "outputs": [
    {
     "data": {
      "text/plain": [
       "<Axes: xlabel='count', ylabel='Gender'>"
      ]
     },
     "execution_count": 21,
     "metadata": {},
     "output_type": "execute_result"
    },
    {
     "data": {
      "image/png": "[encoded data removed]",
      "text/plain": [
       "<Figure size 640x480 with 1 Axes>"
      ]
     },
     "metadata": {},
     "output_type": "display_data"
    }
   ],
   "source": [
    "s.countplot(df[\"Gender\"],label=\"count\")"
   ]
  },
  {
   "cell_type": "markdown",
   "id": "fdf5b4fd",
   "metadata": {},
   "source": [
    "3. Generate a heatmap to show correlation among numerical columns."
   ]
  },
  {
   "cell_type": "code",
   "execution_count": 25,
   "id": "c0a19b23",
   "metadata": {},
   "outputs": [
    {
     "data": {
      "image/png": "[encoded data removed]",
      "text/plain": [
       "<Figure size 1200x800 with 2 Axes>"
      ]
     },
     "metadata": {},
     "output_type": "display_data"
    }
   ],
   "source": [
    "corr_matrix = df.corr(numeric_only=True)\n",
    "plt.figure(figsize=(12, 8))\n",
    "s.heatmap(corr_matrix, annot=True, fmt=\".2f\", cmap=\"coolwarm\", square=True, linewidths=0.5)\n",
    "plt.title(\"Correlation Heatmap\")\n",
    "plt.show()\n",
    "\n"
   ]
  },
  {
   "cell_type": "markdown",
   "id": "36981c64",
   "metadata": {},
   "source": [
    "4. Create a line plot or time series plot to analyze trends over time."
   ]
  },
  {
   "cell_type": "code",
   "execution_count": 27,
   "id": "89f3406b",
   "metadata": {},
   "outputs": [],
   "source": [
    "df['AdmissionDate'] = pd.to_datetime(df['AdmissionDate'])\n",
    "df = df.sort_values('AdmissionDate')"
   ]
  },
  {
   "cell_type": "code",
   "execution_count": null,
   "id": "e966b68d",
   "metadata": {},
   "outputs": [],
   "source": [
    "# Plot the time series\n",
    "plt.figure(figsize=(12, 6))\n",
    "s.lineplot(x='date', y='value_column', data=df, marker='o')\n",
    "plt.title('Trend Over Time')\n",
    "plt.xlabel('Date')\n",
    "plt.ylabel('Value')\n",
    "plt.grid(True)\n",
    "plt.xticks(rotation=45)\n",
    "plt.tight_layout()\n",
    "plt.show()"
   ]
  },
  {
   "cell_type": "markdown",
   "id": "ea3b7d5f",
   "metadata": {},
   "source": [
    "1. Plot the distribution of a key numerical column using a histogram or KDE plot."
   ]
  },
  {
   "cell_type": "code",
   "execution_count": 24,
   "id": "c7c097a1",
   "metadata": {},
   "outputs": [
    {
     "data": {
      "image/png": "[encoded data removed]",
      "text/plain": [
       "<Figure size 1000x600 with 1 Axes>"
      ]
     },
     "metadata": {},
     "output_type": "display_data"
    }
   ],
   "source": [
    "# Plot histogram and KDE\n",
    "plt.figure(figsize=(10,6))\n",
    "s.histplot(df['Disease'].dropna(), kde=True, bins=30, color='skyblue')\n",
    "plt.title('Distribution of Disease')\n",
    "plt.xlabel('Disease')\n",
    "plt.ylabel('Frequency')\n",
    "plt.grid(True)\n",
    "plt.show()"
   ]
  },
  {
   "cell_type": "code",
   "execution_count": null,
   "id": "2b457e63",
   "metadata": {},
   "outputs": [],
   "source": []
  }
 ],
 "metadata": {
  "kernelspec": {
   "display_name": "Python 3",
   "language": "python",
   "name": "python3"
  },
  "language_info": {
   "codemirror_mode": {
    "name": "ipython",
    "version": 3
   },
   "file_extension": ".py",
   "mimetype": "text/x-python",
   "name": "python",
   "nbconvert_exporter": "python",
   "pygments_lexer": "ipython3",
   "version": "3.13.0"
  }
 },
 "nbformat": 4,
 "nbformat_minor": 5
}
